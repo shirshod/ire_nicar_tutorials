{
 "cells": [
  {
   "cell_type": "markdown",
   "id": "7f20cd61",
   "metadata": {},
   "source": [
    "### Importing libraries"
   ]
  },
  {
   "cell_type": "code",
   "execution_count": 1,
   "id": "83460bb5",
   "metadata": {},
   "outputs": [],
   "source": [
    "import pandas as pd\n",
    "import statsmodels.formula.api as smf\n",
    "import seaborn as sns\n",
    "import numpy as np\n",
    "\n",
    "sns.set_style(\"darkgrid\")\n",
    "\n",
    "%matplotlib inline"
   ]
  },
  {
   "cell_type": "markdown",
   "id": "6fd61d42",
   "metadata": {},
   "source": [
    "### Linear Regression"
   ]
  },
  {
   "cell_type": "markdown",
   "id": "19104e73",
   "metadata": {},
   "source": [
    "Let's make a database of miles driven in a car, it's age and the number of crashes the car was involved in. "
   ]
  },
  {
   "cell_type": "code",
   "execution_count": 2,
   "id": "0409f9d5",
   "metadata": {},
   "outputs": [
    {
     "data": {
      "text/html": [
       "<div>\n",
       "<style scoped>\n",
       "    .dataframe tbody tr th:only-of-type {\n",
       "        vertical-align: middle;\n",
       "    }\n",
       "\n",
       "    .dataframe tbody tr th {\n",
       "        vertical-align: top;\n",
       "    }\n",
       "\n",
       "    .dataframe thead th {\n",
       "        text-align: right;\n",
       "    }\n",
       "</style>\n",
       "<table border=\"1\" class=\"dataframe\">\n",
       "  <thead>\n",
       "    <tr style=\"text-align: right;\">\n",
       "      <th></th>\n",
       "      <th>miles</th>\n",
       "      <th>car_age</th>\n",
       "      <th>crashes</th>\n",
       "    </tr>\n",
       "  </thead>\n",
       "  <tbody>\n",
       "    <tr>\n",
       "      <th>0</th>\n",
       "      <td>2000</td>\n",
       "      <td>4</td>\n",
       "      <td>2</td>\n",
       "    </tr>\n",
       "    <tr>\n",
       "      <th>1</th>\n",
       "      <td>2000</td>\n",
       "      <td>2</td>\n",
       "      <td>0</td>\n",
       "    </tr>\n",
       "    <tr>\n",
       "      <th>2</th>\n",
       "      <td>2000</td>\n",
       "      <td>6</td>\n",
       "      <td>3</td>\n",
       "    </tr>\n",
       "    <tr>\n",
       "      <th>3</th>\n",
       "      <td>5000</td>\n",
       "      <td>10</td>\n",
       "      <td>3</td>\n",
       "    </tr>\n",
       "    <tr>\n",
       "      <th>4</th>\n",
       "      <td>5000</td>\n",
       "      <td>3</td>\n",
       "      <td>6</td>\n",
       "    </tr>\n",
       "    <tr>\n",
       "      <th>5</th>\n",
       "      <td>5000</td>\n",
       "      <td>6</td>\n",
       "      <td>5</td>\n",
       "    </tr>\n",
       "  </tbody>\n",
       "</table>\n",
       "</div>"
      ],
      "text/plain": [
       "   miles  car_age  crashes\n",
       "0   2000        4        2\n",
       "1   2000        2        0\n",
       "2   2000        6        3\n",
       "3   5000       10        3\n",
       "4   5000        3        6\n",
       "5   5000        6        5"
      ]
     },
     "execution_count": 2,
     "metadata": {},
     "output_type": "execute_result"
    }
   ],
   "source": [
    "df = pd.DataFrame([\n",
    "    {\"miles\": 2000, \"car_age\": 4, \"crashes\": 2},\n",
    "    {\"miles\": 2000, \"car_age\": 2, \"crashes\": 0},\n",
    "    {\"miles\": 2000, \"car_age\": 6, \"crashes\": 3},\n",
    "    {\"miles\": 5000, \"car_age\": 10, \"crashes\": 3},\n",
    "    {\"miles\": 5000, \"car_age\": 3, \"crashes\": 6},\n",
    "    {\"miles\": 5000, \"car_age\": 6, \"crashes\": 5}\n",
    "])\n",
    "\n",
    "df"
   ]
  },
  {
   "cell_type": "markdown",
   "id": "108bc093",
   "metadata": {},
   "source": [
    "What effect does the distance driven have on the number of crashes? This is where linear regression comes in.\n",
    "\n",
    "OR MORE TECHNICALLY, how do the inputs affect the end-result?"
   ]
  },
  {
   "cell_type": "markdown",
   "id": "8ba0b879",
   "metadata": {},
   "source": [
    "#### Computing a linear regression"
   ]
  },
  {
   "cell_type": "code",
   "execution_count": 3,
   "id": "8ad43137",
   "metadata": {},
   "outputs": [
    {
     "name": "stderr",
     "output_type": "stream",
     "text": [
      "/Users/shirshodasgupta/Documents/Python/anaconda3/lib/python3.9/site-packages/statsmodels/stats/stattools.py:74: ValueWarning: omni_normtest is not valid with less than 8 observations; 6 samples were given.\n",
      "  warn(\"omni_normtest is not valid with less than 8 observations; %i \"\n"
     ]
    },
    {
     "data": {
      "text/html": [
       "<table class=\"simpletable\">\n",
       "<caption>OLS Regression Results</caption>\n",
       "<tr>\n",
       "  <th>Dep. Variable:</th>         <td>crashes</td>     <th>  R-squared:         </th> <td>   0.591</td>\n",
       "</tr>\n",
       "<tr>\n",
       "  <th>Model:</th>                   <td>OLS</td>       <th>  Adj. R-squared:    </th> <td>   0.489</td>\n",
       "</tr>\n",
       "<tr>\n",
       "  <th>Method:</th>             <td>Least Squares</td>  <th>  F-statistic:       </th> <td>   5.786</td>\n",
       "</tr>\n",
       "<tr>\n",
       "  <th>Date:</th>             <td>Sat, 03 Feb 2024</td> <th>  Prob (F-statistic):</th>  <td>0.0739</td> \n",
       "</tr>\n",
       "<tr>\n",
       "  <th>Time:</th>                 <td>19:08:39</td>     <th>  Log-Likelihood:    </th> <td> -9.8391</td>\n",
       "</tr>\n",
       "<tr>\n",
       "  <th>No. Observations:</th>      <td>     6</td>      <th>  AIC:               </th> <td>   23.68</td>\n",
       "</tr>\n",
       "<tr>\n",
       "  <th>Df Residuals:</th>          <td>     4</td>      <th>  BIC:               </th> <td>   23.26</td>\n",
       "</tr>\n",
       "<tr>\n",
       "  <th>Df Model:</th>              <td>     1</td>      <th>                     </th>     <td> </td>   \n",
       "</tr>\n",
       "<tr>\n",
       "  <th>Covariance Type:</th>      <td>nonrobust</td>    <th>                     </th>     <td> </td>   \n",
       "</tr>\n",
       "</table>\n",
       "<table class=\"simpletable\">\n",
       "<tr>\n",
       "      <td></td>         <th>coef</th>     <th>std err</th>      <th>t</th>      <th>P>|t|</th>  <th>[0.025</th>    <th>0.975]</th>  \n",
       "</tr>\n",
       "<tr>\n",
       "  <th>Intercept</th> <td>   -0.3333</td> <td>    1.583</td> <td>   -0.211</td> <td> 0.844</td> <td>   -4.729</td> <td>    4.062</td>\n",
       "</tr>\n",
       "<tr>\n",
       "  <th>miles</th>     <td>    0.0010</td> <td>    0.000</td> <td>    2.405</td> <td> 0.074</td> <td>   -0.000</td> <td>    0.002</td>\n",
       "</tr>\n",
       "</table>\n",
       "<table class=\"simpletable\">\n",
       "<tr>\n",
       "  <th>Omnibus:</th>       <td>   nan</td> <th>  Durbin-Watson:     </th> <td>   3.429</td>\n",
       "</tr>\n",
       "<tr>\n",
       "  <th>Prob(Omnibus):</th> <td>   nan</td> <th>  Jarque-Bera (JB):  </th> <td>   0.708</td>\n",
       "</tr>\n",
       "<tr>\n",
       "  <th>Skew:</th>          <td>-0.382</td> <th>  Prob(JB):          </th> <td>   0.702</td>\n",
       "</tr>\n",
       "<tr>\n",
       "  <th>Kurtosis:</th>      <td> 1.500</td> <th>  Cond. No.          </th> <td>9.67e+03</td>\n",
       "</tr>\n",
       "</table><br/><br/>Notes:<br/>[1] Standard Errors assume that the covariance matrix of the errors is correctly specified.<br/>[2] The condition number is large, 9.67e+03. This might indicate that there are<br/>strong multicollinearity or other numerical problems."
      ],
      "text/plain": [
       "<class 'statsmodels.iolib.summary.Summary'>\n",
       "\"\"\"\n",
       "                            OLS Regression Results                            \n",
       "==============================================================================\n",
       "Dep. Variable:                crashes   R-squared:                       0.591\n",
       "Model:                            OLS   Adj. R-squared:                  0.489\n",
       "Method:                 Least Squares   F-statistic:                     5.786\n",
       "Date:                Sat, 03 Feb 2024   Prob (F-statistic):             0.0739\n",
       "Time:                        19:08:39   Log-Likelihood:                -9.8391\n",
       "No. Observations:                   6   AIC:                             23.68\n",
       "Df Residuals:                       4   BIC:                             23.26\n",
       "Df Model:                           1                                         \n",
       "Covariance Type:            nonrobust                                         \n",
       "==============================================================================\n",
       "                 coef    std err          t      P>|t|      [0.025      0.975]\n",
       "------------------------------------------------------------------------------\n",
       "Intercept     -0.3333      1.583     -0.211      0.844      -4.729       4.062\n",
       "miles          0.0010      0.000      2.405      0.074      -0.000       0.002\n",
       "==============================================================================\n",
       "Omnibus:                          nan   Durbin-Watson:                   3.429\n",
       "Prob(Omnibus):                    nan   Jarque-Bera (JB):                0.708\n",
       "Skew:                          -0.382   Prob(JB):                        0.702\n",
       "Kurtosis:                       1.500   Cond. No.                     9.67e+03\n",
       "==============================================================================\n",
       "\n",
       "Notes:\n",
       "[1] Standard Errors assume that the covariance matrix of the errors is correctly specified.\n",
       "[2] The condition number is large, 9.67e+03. This might indicate that there are\n",
       "strong multicollinearity or other numerical problems.\n",
       "\"\"\""
      ]
     },
     "execution_count": 3,
     "metadata": {},
     "output_type": "execute_result"
    }
   ],
   "source": [
    "### what effect does the distance driven have on the number of crashes?\n",
    "model = smf.ols(formula = 'crashes ~ miles', data = df)\n",
    "results = model.fit()\n",
    "results.summary()"
   ]
  },
  {
   "cell_type": "markdown",
   "id": "e9b365d1",
   "metadata": {},
   "source": [
    "What is our coefficient for `miles`? 0.0010.\n",
    "\n",
    "In other words, for every mile the person drives, he crashes an additional 0.001 times.\n",
    "\n",
    "But that's hard to understand. Especially given that just by eyeballing the data we know it's one crash for every 1,000 miles."
   ]
  },
  {
   "cell_type": "code",
   "execution_count": 4,
   "id": "49def3c8",
   "metadata": {},
   "outputs": [
    {
     "data": {
      "text/plain": [
       "<Axes: xlabel='miles', ylabel='crashes'>"
      ]
     },
     "execution_count": 4,
     "metadata": {},
     "output_type": "execute_result"
    },
    {
     "data": {
      "image/png": "[encoded data removed]",
      "text/plain": [
       "<Figure size 432x288 with 1 Axes>"
      ]
     },
     "metadata": {
      "needs_background": "light"
     },
     "output_type": "display_data"
    }
   ],
   "source": [
    "sns.regplot(x = 'miles', y = 'crashes', ci = None, data = df)"
   ]
  },
  {
   "cell_type": "code",
   "execution_count": 5,
   "id": "c6836611",
   "metadata": {},
   "outputs": [
    {
     "name": "stderr",
     "output_type": "stream",
     "text": [
      "/Users/shirshodasgupta/Documents/Python/anaconda3/lib/python3.9/site-packages/statsmodels/stats/stattools.py:74: ValueWarning: omni_normtest is not valid with less than 8 observations; 6 samples were given.\n",
      "  warn(\"omni_normtest is not valid with less than 8 observations; %i \"\n"
     ]
    },
    {
     "data": {
      "text/html": [
       "<table class=\"simpletable\">\n",
       "<caption>OLS Regression Results</caption>\n",
       "<tr>\n",
       "  <th>Dep. Variable:</th>         <td>crashes</td>     <th>  R-squared:         </th> <td>   0.591</td>\n",
       "</tr>\n",
       "<tr>\n",
       "  <th>Model:</th>                   <td>OLS</td>       <th>  Adj. R-squared:    </th> <td>   0.489</td>\n",
       "</tr>\n",
       "<tr>\n",
       "  <th>Method:</th>             <td>Least Squares</td>  <th>  F-statistic:       </th> <td>   5.786</td>\n",
       "</tr>\n",
       "<tr>\n",
       "  <th>Date:</th>             <td>Sat, 03 Feb 2024</td> <th>  Prob (F-statistic):</th>  <td>0.0739</td> \n",
       "</tr>\n",
       "<tr>\n",
       "  <th>Time:</th>                 <td>19:08:40</td>     <th>  Log-Likelihood:    </th> <td> -9.8391</td>\n",
       "</tr>\n",
       "<tr>\n",
       "  <th>No. Observations:</th>      <td>     6</td>      <th>  AIC:               </th> <td>   23.68</td>\n",
       "</tr>\n",
       "<tr>\n",
       "  <th>Df Residuals:</th>          <td>     4</td>      <th>  BIC:               </th> <td>   23.26</td>\n",
       "</tr>\n",
       "<tr>\n",
       "  <th>Df Model:</th>              <td>     1</td>      <th>                     </th>     <td> </td>   \n",
       "</tr>\n",
       "<tr>\n",
       "  <th>Covariance Type:</th>      <td>nonrobust</td>    <th>                     </th>     <td> </td>   \n",
       "</tr>\n",
       "</table>\n",
       "<table class=\"simpletable\">\n",
       "<tr>\n",
       "             <td></td>               <th>coef</th>     <th>std err</th>      <th>t</th>      <th>P>|t|</th>  <th>[0.025</th>    <th>0.975]</th>  \n",
       "</tr>\n",
       "<tr>\n",
       "  <th>Intercept</th>              <td>   -0.3333</td> <td>    1.583</td> <td>   -0.211</td> <td> 0.844</td> <td>   -4.729</td> <td>    4.062</td>\n",
       "</tr>\n",
       "<tr>\n",
       "  <th>np.divide(miles, 1000)</th> <td>    1.0000</td> <td>    0.416</td> <td>    2.405</td> <td> 0.074</td> <td>   -0.154</td> <td>    2.154</td>\n",
       "</tr>\n",
       "</table>\n",
       "<table class=\"simpletable\">\n",
       "<tr>\n",
       "  <th>Omnibus:</th>       <td>   nan</td> <th>  Durbin-Watson:     </th> <td>   3.429</td>\n",
       "</tr>\n",
       "<tr>\n",
       "  <th>Prob(Omnibus):</th> <td>   nan</td> <th>  Jarque-Bera (JB):  </th> <td>   0.708</td>\n",
       "</tr>\n",
       "<tr>\n",
       "  <th>Skew:</th>          <td>-0.382</td> <th>  Prob(JB):          </th> <td>   0.702</td>\n",
       "</tr>\n",
       "<tr>\n",
       "  <th>Kurtosis:</th>      <td> 1.500</td> <th>  Cond. No.          </th> <td>    10.2</td>\n",
       "</tr>\n",
       "</table><br/><br/>Notes:<br/>[1] Standard Errors assume that the covariance matrix of the errors is correctly specified."
      ],
      "text/plain": [
       "<class 'statsmodels.iolib.summary.Summary'>\n",
       "\"\"\"\n",
       "                            OLS Regression Results                            \n",
       "==============================================================================\n",
       "Dep. Variable:                crashes   R-squared:                       0.591\n",
       "Model:                            OLS   Adj. R-squared:                  0.489\n",
       "Method:                 Least Squares   F-statistic:                     5.786\n",
       "Date:                Sat, 03 Feb 2024   Prob (F-statistic):             0.0739\n",
       "Time:                        19:08:40   Log-Likelihood:                -9.8391\n",
       "No. Observations:                   6   AIC:                             23.68\n",
       "Df Residuals:                       4   BIC:                             23.26\n",
       "Df Model:                           1                                         \n",
       "Covariance Type:            nonrobust                                         \n",
       "==========================================================================================\n",
       "                             coef    std err          t      P>|t|      [0.025      0.975]\n",
       "------------------------------------------------------------------------------------------\n",
       "Intercept                 -0.3333      1.583     -0.211      0.844      -4.729       4.062\n",
       "np.divide(miles, 1000)     1.0000      0.416      2.405      0.074      -0.154       2.154\n",
       "==============================================================================\n",
       "Omnibus:                          nan   Durbin-Watson:                   3.429\n",
       "Prob(Omnibus):                    nan   Jarque-Bera (JB):                0.708\n",
       "Skew:                          -0.382   Prob(JB):                        0.702\n",
       "Kurtosis:                       1.500   Cond. No.                         10.2\n",
       "==============================================================================\n",
       "\n",
       "Notes:\n",
       "[1] Standard Errors assume that the covariance matrix of the errors is correctly specified.\n",
       "\"\"\""
      ]
     },
     "execution_count": 5,
     "metadata": {},
     "output_type": "execute_result"
    }
   ],
   "source": [
    "model = smf.ols(formula='crashes ~ np.divide(miles, 1000)', data=df)\n",
    "results = model.fit()\n",
    "results.summary()"
   ]
  },
  {
   "cell_type": "markdown",
   "id": "002a9050",
   "metadata": {},
   "source": [
    "What do we get for `miles` now? 1.00.\n",
    "\n",
    "In other words, for every 1,000 miles driven we get 1 crash."
   ]
  },
  {
   "cell_type": "code",
   "execution_count": 6,
   "id": "2973a795",
   "metadata": {},
   "outputs": [
    {
     "name": "stderr",
     "output_type": "stream",
     "text": [
      "/Users/shirshodasgupta/Documents/Python/anaconda3/lib/python3.9/site-packages/statsmodels/stats/stattools.py:74: ValueWarning: omni_normtest is not valid with less than 8 observations; 6 samples were given.\n",
      "  warn(\"omni_normtest is not valid with less than 8 observations; %i \"\n"
     ]
    },
    {
     "data": {
      "text/html": [
       "<table class=\"simpletable\">\n",
       "<caption>OLS Regression Results</caption>\n",
       "<tr>\n",
       "  <th>Dep. Variable:</th>         <td>crashes</td>     <th>  R-squared:         </th> <td>   0.620</td>\n",
       "</tr>\n",
       "<tr>\n",
       "  <th>Model:</th>                   <td>OLS</td>       <th>  Adj. R-squared:    </th> <td>   0.367</td>\n",
       "</tr>\n",
       "<tr>\n",
       "  <th>Method:</th>             <td>Least Squares</td>  <th>  F-statistic:       </th> <td>   2.452</td>\n",
       "</tr>\n",
       "<tr>\n",
       "  <th>Date:</th>             <td>Sat, 03 Feb 2024</td> <th>  Prob (F-statistic):</th>  <td> 0.234</td> \n",
       "</tr>\n",
       "<tr>\n",
       "  <th>Time:</th>                 <td>19:08:40</td>     <th>  Log-Likelihood:    </th> <td> -9.6168</td>\n",
       "</tr>\n",
       "<tr>\n",
       "  <th>No. Observations:</th>      <td>     6</td>      <th>  AIC:               </th> <td>   25.23</td>\n",
       "</tr>\n",
       "<tr>\n",
       "  <th>Df Residuals:</th>          <td>     3</td>      <th>  BIC:               </th> <td>   24.61</td>\n",
       "</tr>\n",
       "<tr>\n",
       "  <th>Df Model:</th>              <td>     2</td>      <th>                     </th>     <td> </td>   \n",
       "</tr>\n",
       "<tr>\n",
       "  <th>Covariance Type:</th>      <td>nonrobust</td>    <th>                     </th>     <td> </td>   \n",
       "</tr>\n",
       "</table>\n",
       "<table class=\"simpletable\">\n",
       "<tr>\n",
       "             <td></td>               <th>coef</th>     <th>std err</th>      <th>t</th>      <th>P>|t|</th>  <th>[0.025</th>    <th>0.975]</th>  \n",
       "</tr>\n",
       "<tr>\n",
       "  <th>Intercept</th>              <td>    0.0159</td> <td>    1.906</td> <td>    0.008</td> <td> 0.994</td> <td>   -6.049</td> <td>    6.080</td>\n",
       "</tr>\n",
       "<tr>\n",
       "  <th>np.divide(miles, 1000)</th> <td>    1.1111</td> <td>    0.517</td> <td>    2.148</td> <td> 0.121</td> <td>   -0.535</td> <td>    2.757</td>\n",
       "</tr>\n",
       "<tr>\n",
       "  <th>car_age</th>                <td>   -0.1429</td> <td>    0.297</td> <td>   -0.480</td> <td> 0.664</td> <td>   -1.089</td> <td>    0.804</td>\n",
       "</tr>\n",
       "</table>\n",
       "<table class=\"simpletable\">\n",
       "<tr>\n",
       "  <th>Omnibus:</th>       <td>   nan</td> <th>  Durbin-Watson:     </th> <td>   3.454</td>\n",
       "</tr>\n",
       "<tr>\n",
       "  <th>Prob(Omnibus):</th> <td>   nan</td> <th>  Jarque-Bera (JB):  </th> <td>   0.455</td>\n",
       "</tr>\n",
       "<tr>\n",
       "  <th>Skew:</th>          <td>-0.384</td> <th>  Prob(JB):          </th> <td>   0.796</td>\n",
       "</tr>\n",
       "<tr>\n",
       "  <th>Kurtosis:</th>      <td> 1.890</td> <th>  Cond. No.          </th> <td>    19.1</td>\n",
       "</tr>\n",
       "</table><br/><br/>Notes:<br/>[1] Standard Errors assume that the covariance matrix of the errors is correctly specified."
      ],
      "text/plain": [
       "<class 'statsmodels.iolib.summary.Summary'>\n",
       "\"\"\"\n",
       "                            OLS Regression Results                            \n",
       "==============================================================================\n",
       "Dep. Variable:                crashes   R-squared:                       0.620\n",
       "Model:                            OLS   Adj. R-squared:                  0.367\n",
       "Method:                 Least Squares   F-statistic:                     2.452\n",
       "Date:                Sat, 03 Feb 2024   Prob (F-statistic):              0.234\n",
       "Time:                        19:08:40   Log-Likelihood:                -9.6168\n",
       "No. Observations:                   6   AIC:                             25.23\n",
       "Df Residuals:                       3   BIC:                             24.61\n",
       "Df Model:                           2                                         \n",
       "Covariance Type:            nonrobust                                         \n",
       "==========================================================================================\n",
       "                             coef    std err          t      P>|t|      [0.025      0.975]\n",
       "------------------------------------------------------------------------------------------\n",
       "Intercept                  0.0159      1.906      0.008      0.994      -6.049       6.080\n",
       "np.divide(miles, 1000)     1.1111      0.517      2.148      0.121      -0.535       2.757\n",
       "car_age                   -0.1429      0.297     -0.480      0.664      -1.089       0.804\n",
       "==============================================================================\n",
       "Omnibus:                          nan   Durbin-Watson:                   3.454\n",
       "Prob(Omnibus):                    nan   Jarque-Bera (JB):                0.455\n",
       "Skew:                          -0.384   Prob(JB):                        0.796\n",
       "Kurtosis:                       1.890   Cond. No.                         19.1\n",
       "==============================================================================\n",
       "\n",
       "Notes:\n",
       "[1] Standard Errors assume that the covariance matrix of the errors is correctly specified.\n",
       "\"\"\""
      ]
     },
     "execution_count": 6,
     "metadata": {},
     "output_type": "execute_result"
    }
   ],
   "source": [
    "model = smf.ols(formula='crashes ~ np.divide(miles, 1000) + car_age', data=df)\n",
    "results = model.fit()\n",
    "results.summary()"
   ]
  },
  {
   "cell_type": "markdown",
   "id": "1d4fe025",
   "metadata": {},
   "source": [
    "Here again you get 1.1111 or 1 crash for every 1,000 miles."
   ]
  },
  {
   "cell_type": "markdown",
   "id": "9ff8b38a",
   "metadata": {},
   "source": [
    "#### Evaluating regressions"
   ]
  },
  {
   "cell_type": "code",
   "execution_count": 7,
   "id": "45ebe76f",
   "metadata": {},
   "outputs": [
    {
     "name": "stderr",
     "output_type": "stream",
     "text": [
      "/Users/shirshodasgupta/Documents/Python/anaconda3/lib/python3.9/site-packages/statsmodels/stats/stattools.py:74: ValueWarning: omni_normtest is not valid with less than 8 observations; 6 samples were given.\n",
      "  warn(\"omni_normtest is not valid with less than 8 observations; %i \"\n"
     ]
    },
    {
     "data": {
      "text/html": [
       "<table class=\"simpletable\">\n",
       "<caption>OLS Regression Results</caption>\n",
       "<tr>\n",
       "  <th>Dep. Variable:</th>         <td>crashes</td>     <th>  R-squared:         </th> <td>   0.591</td>\n",
       "</tr>\n",
       "<tr>\n",
       "  <th>Model:</th>                   <td>OLS</td>       <th>  Adj. R-squared:    </th> <td>   0.489</td>\n",
       "</tr>\n",
       "<tr>\n",
       "  <th>Method:</th>             <td>Least Squares</td>  <th>  F-statistic:       </th> <td>   5.786</td>\n",
       "</tr>\n",
       "<tr>\n",
       "  <th>Date:</th>             <td>Sat, 03 Feb 2024</td> <th>  Prob (F-statistic):</th>  <td>0.0739</td> \n",
       "</tr>\n",
       "<tr>\n",
       "  <th>Time:</th>                 <td>19:08:40</td>     <th>  Log-Likelihood:    </th> <td> -9.8391</td>\n",
       "</tr>\n",
       "<tr>\n",
       "  <th>No. Observations:</th>      <td>     6</td>      <th>  AIC:               </th> <td>   23.68</td>\n",
       "</tr>\n",
       "<tr>\n",
       "  <th>Df Residuals:</th>          <td>     4</td>      <th>  BIC:               </th> <td>   23.26</td>\n",
       "</tr>\n",
       "<tr>\n",
       "  <th>Df Model:</th>              <td>     1</td>      <th>                     </th>     <td> </td>   \n",
       "</tr>\n",
       "<tr>\n",
       "  <th>Covariance Type:</th>      <td>nonrobust</td>    <th>                     </th>     <td> </td>   \n",
       "</tr>\n",
       "</table>\n",
       "<table class=\"simpletable\">\n",
       "<tr>\n",
       "             <td></td>               <th>coef</th>     <th>std err</th>      <th>t</th>      <th>P>|t|</th>  <th>[0.025</th>    <th>0.975]</th>  \n",
       "</tr>\n",
       "<tr>\n",
       "  <th>Intercept</th>              <td>   -0.3333</td> <td>    1.583</td> <td>   -0.211</td> <td> 0.844</td> <td>   -4.729</td> <td>    4.062</td>\n",
       "</tr>\n",
       "<tr>\n",
       "  <th>np.divide(miles, 1000)</th> <td>    1.0000</td> <td>    0.416</td> <td>    2.405</td> <td> 0.074</td> <td>   -0.154</td> <td>    2.154</td>\n",
       "</tr>\n",
       "</table>\n",
       "<table class=\"simpletable\">\n",
       "<tr>\n",
       "  <th>Omnibus:</th>       <td>   nan</td> <th>  Durbin-Watson:     </th> <td>   3.429</td>\n",
       "</tr>\n",
       "<tr>\n",
       "  <th>Prob(Omnibus):</th> <td>   nan</td> <th>  Jarque-Bera (JB):  </th> <td>   0.708</td>\n",
       "</tr>\n",
       "<tr>\n",
       "  <th>Skew:</th>          <td>-0.382</td> <th>  Prob(JB):          </th> <td>   0.702</td>\n",
       "</tr>\n",
       "<tr>\n",
       "  <th>Kurtosis:</th>      <td> 1.500</td> <th>  Cond. No.          </th> <td>    10.2</td>\n",
       "</tr>\n",
       "</table><br/><br/>Notes:<br/>[1] Standard Errors assume that the covariance matrix of the errors is correctly specified."
      ],
      "text/plain": [
       "<class 'statsmodels.iolib.summary.Summary'>\n",
       "\"\"\"\n",
       "                            OLS Regression Results                            \n",
       "==============================================================================\n",
       "Dep. Variable:                crashes   R-squared:                       0.591\n",
       "Model:                            OLS   Adj. R-squared:                  0.489\n",
       "Method:                 Least Squares   F-statistic:                     5.786\n",
       "Date:                Sat, 03 Feb 2024   Prob (F-statistic):             0.0739\n",
       "Time:                        19:08:40   Log-Likelihood:                -9.8391\n",
       "No. Observations:                   6   AIC:                             23.68\n",
       "Df Residuals:                       4   BIC:                             23.26\n",
       "Df Model:                           1                                         \n",
       "Covariance Type:            nonrobust                                         \n",
       "==========================================================================================\n",
       "                             coef    std err          t      P>|t|      [0.025      0.975]\n",
       "------------------------------------------------------------------------------------------\n",
       "Intercept                 -0.3333      1.583     -0.211      0.844      -4.729       4.062\n",
       "np.divide(miles, 1000)     1.0000      0.416      2.405      0.074      -0.154       2.154\n",
       "==============================================================================\n",
       "Omnibus:                          nan   Durbin-Watson:                   3.429\n",
       "Prob(Omnibus):                    nan   Jarque-Bera (JB):                0.708\n",
       "Skew:                          -0.382   Prob(JB):                        0.702\n",
       "Kurtosis:                       1.500   Cond. No.                         10.2\n",
       "==============================================================================\n",
       "\n",
       "Notes:\n",
       "[1] Standard Errors assume that the covariance matrix of the errors is correctly specified.\n",
       "\"\"\""
      ]
     },
     "execution_count": 7,
     "metadata": {},
     "output_type": "execute_result"
    }
   ],
   "source": [
    "model = smf.ols(formula='crashes ~ np.divide(miles, 1000)', data=df)\n",
    "results = model.fit()\n",
    "results.summary()"
   ]
  },
  {
   "cell_type": "markdown",
   "id": "4389e106",
   "metadata": {},
   "source": [
    "##### P-values"
   ]
  },
  {
   "cell_type": "markdown",
   "id": "759f0bab",
   "metadata": {},
   "source": [
    "The p-value for the overall regression is given by `Prob (F-statistic)`. So here, that is 0.074.\n",
    "\n",
    "The features included in the model also get p-values given by `P>|t|`. So for `np.divide(miles, 1000)` that is 0.074.\n",
    "\n",
    "Now as a rule of thumb, you want your p-value to be less than 0.05. That means that there's only a 5% chance that the model is explaining your phenomenon by accident. The higher the p-value the worse the model is. So 0.07? Close, but not so great!"
   ]
  },
  {
   "cell_type": "markdown",
   "id": "db08b2cf",
   "metadata": {},
   "source": [
    "##### R-squared"
   ]
  },
  {
   "cell_type": "markdown",
   "id": "312661fc",
   "metadata": {},
   "source": [
    "We also have this variable called `R-squared` which in this case is 0.591. This means that the distance driven accounts for 59.1% or around 60% (or nearly two-thirds) of the crashes. The other 40% is due to contingent factors like weather, luck, other drivers, etc.\n",
    "\n",
    "(In the example of toy sales, the value is 1 because no one is paying anything extra so 100% of the revenue can be correlated to number of toys sold. Think about the same example but for sales of tacos or coffee — the \"extra\" value or the contingent factor will come from tips!)"
   ]
  },
  {
   "cell_type": "markdown",
   "id": "698a4cd3",
   "metadata": {},
   "source": [
    "##### Adjusted R-squared"
   ]
  },
  {
   "cell_type": "code",
   "execution_count": 8,
   "id": "5db94a5b",
   "metadata": {},
   "outputs": [
    {
     "name": "stderr",
     "output_type": "stream",
     "text": [
      "/Users/shirshodasgupta/Documents/Python/anaconda3/lib/python3.9/site-packages/statsmodels/stats/stattools.py:74: ValueWarning: omni_normtest is not valid with less than 8 observations; 6 samples were given.\n",
      "  warn(\"omni_normtest is not valid with less than 8 observations; %i \"\n"
     ]
    },
    {
     "data": {
      "text/html": [
       "<table class=\"simpletable\">\n",
       "<caption>OLS Regression Results</caption>\n",
       "<tr>\n",
       "  <th>Dep. Variable:</th>         <td>crashes</td>     <th>  R-squared:         </th> <td>   0.591</td>\n",
       "</tr>\n",
       "<tr>\n",
       "  <th>Model:</th>                   <td>OLS</td>       <th>  Adj. R-squared:    </th> <td>   0.489</td>\n",
       "</tr>\n",
       "<tr>\n",
       "  <th>Method:</th>             <td>Least Squares</td>  <th>  F-statistic:       </th> <td>   5.786</td>\n",
       "</tr>\n",
       "<tr>\n",
       "  <th>Date:</th>             <td>Sat, 03 Feb 2024</td> <th>  Prob (F-statistic):</th>  <td>0.0739</td> \n",
       "</tr>\n",
       "<tr>\n",
       "  <th>Time:</th>                 <td>19:08:40</td>     <th>  Log-Likelihood:    </th> <td> -9.8391</td>\n",
       "</tr>\n",
       "<tr>\n",
       "  <th>No. Observations:</th>      <td>     6</td>      <th>  AIC:               </th> <td>   23.68</td>\n",
       "</tr>\n",
       "<tr>\n",
       "  <th>Df Residuals:</th>          <td>     4</td>      <th>  BIC:               </th> <td>   23.26</td>\n",
       "</tr>\n",
       "<tr>\n",
       "  <th>Df Model:</th>              <td>     1</td>      <th>                     </th>     <td> </td>   \n",
       "</tr>\n",
       "<tr>\n",
       "  <th>Covariance Type:</th>      <td>nonrobust</td>    <th>                     </th>     <td> </td>   \n",
       "</tr>\n",
       "</table>\n",
       "<table class=\"simpletable\">\n",
       "<tr>\n",
       "             <td></td>               <th>coef</th>     <th>std err</th>      <th>t</th>      <th>P>|t|</th>  <th>[0.025</th>    <th>0.975]</th>  \n",
       "</tr>\n",
       "<tr>\n",
       "  <th>Intercept</th>              <td>   -0.3333</td> <td>    1.583</td> <td>   -0.211</td> <td> 0.844</td> <td>   -4.729</td> <td>    4.062</td>\n",
       "</tr>\n",
       "<tr>\n",
       "  <th>np.divide(miles, 1000)</th> <td>    1.0000</td> <td>    0.416</td> <td>    2.405</td> <td> 0.074</td> <td>   -0.154</td> <td>    2.154</td>\n",
       "</tr>\n",
       "</table>\n",
       "<table class=\"simpletable\">\n",
       "<tr>\n",
       "  <th>Omnibus:</th>       <td>   nan</td> <th>  Durbin-Watson:     </th> <td>   3.429</td>\n",
       "</tr>\n",
       "<tr>\n",
       "  <th>Prob(Omnibus):</th> <td>   nan</td> <th>  Jarque-Bera (JB):  </th> <td>   0.708</td>\n",
       "</tr>\n",
       "<tr>\n",
       "  <th>Skew:</th>          <td>-0.382</td> <th>  Prob(JB):          </th> <td>   0.702</td>\n",
       "</tr>\n",
       "<tr>\n",
       "  <th>Kurtosis:</th>      <td> 1.500</td> <th>  Cond. No.          </th> <td>    10.2</td>\n",
       "</tr>\n",
       "</table><br/><br/>Notes:<br/>[1] Standard Errors assume that the covariance matrix of the errors is correctly specified."
      ],
      "text/plain": [
       "<class 'statsmodels.iolib.summary.Summary'>\n",
       "\"\"\"\n",
       "                            OLS Regression Results                            \n",
       "==============================================================================\n",
       "Dep. Variable:                crashes   R-squared:                       0.591\n",
       "Model:                            OLS   Adj. R-squared:                  0.489\n",
       "Method:                 Least Squares   F-statistic:                     5.786\n",
       "Date:                Sat, 03 Feb 2024   Prob (F-statistic):             0.0739\n",
       "Time:                        19:08:40   Log-Likelihood:                -9.8391\n",
       "No. Observations:                   6   AIC:                             23.68\n",
       "Df Residuals:                       4   BIC:                             23.26\n",
       "Df Model:                           1                                         \n",
       "Covariance Type:            nonrobust                                         \n",
       "==========================================================================================\n",
       "                             coef    std err          t      P>|t|      [0.025      0.975]\n",
       "------------------------------------------------------------------------------------------\n",
       "Intercept                 -0.3333      1.583     -0.211      0.844      -4.729       4.062\n",
       "np.divide(miles, 1000)     1.0000      0.416      2.405      0.074      -0.154       2.154\n",
       "==============================================================================\n",
       "Omnibus:                          nan   Durbin-Watson:                   3.429\n",
       "Prob(Omnibus):                    nan   Jarque-Bera (JB):                0.708\n",
       "Skew:                          -0.382   Prob(JB):                        0.702\n",
       "Kurtosis:                       1.500   Cond. No.                         10.2\n",
       "==============================================================================\n",
       "\n",
       "Notes:\n",
       "[1] Standard Errors assume that the covariance matrix of the errors is correctly specified.\n",
       "\"\"\""
      ]
     },
     "execution_count": 8,
     "metadata": {},
     "output_type": "execute_result"
    }
   ],
   "source": [
    "model = smf.ols(formula='crashes ~ np.divide(miles, 1000)', data=df)\n",
    "results = model.fit()\n",
    "results.summary()"
   ]
  },
  {
   "cell_type": "code",
   "execution_count": 9,
   "id": "1b45c85f",
   "metadata": {},
   "outputs": [
    {
     "name": "stderr",
     "output_type": "stream",
     "text": [
      "/Users/shirshodasgupta/Documents/Python/anaconda3/lib/python3.9/site-packages/statsmodels/stats/stattools.py:74: ValueWarning: omni_normtest is not valid with less than 8 observations; 6 samples were given.\n",
      "  warn(\"omni_normtest is not valid with less than 8 observations; %i \"\n"
     ]
    },
    {
     "data": {
      "text/html": [
       "<table class=\"simpletable\">\n",
       "<caption>OLS Regression Results</caption>\n",
       "<tr>\n",
       "  <th>Dep. Variable:</th>         <td>crashes</td>     <th>  R-squared:         </th> <td>   0.620</td>\n",
       "</tr>\n",
       "<tr>\n",
       "  <th>Model:</th>                   <td>OLS</td>       <th>  Adj. R-squared:    </th> <td>   0.367</td>\n",
       "</tr>\n",
       "<tr>\n",
       "  <th>Method:</th>             <td>Least Squares</td>  <th>  F-statistic:       </th> <td>   2.452</td>\n",
       "</tr>\n",
       "<tr>\n",
       "  <th>Date:</th>             <td>Sat, 03 Feb 2024</td> <th>  Prob (F-statistic):</th>  <td> 0.234</td> \n",
       "</tr>\n",
       "<tr>\n",
       "  <th>Time:</th>                 <td>19:08:40</td>     <th>  Log-Likelihood:    </th> <td> -9.6168</td>\n",
       "</tr>\n",
       "<tr>\n",
       "  <th>No. Observations:</th>      <td>     6</td>      <th>  AIC:               </th> <td>   25.23</td>\n",
       "</tr>\n",
       "<tr>\n",
       "  <th>Df Residuals:</th>          <td>     3</td>      <th>  BIC:               </th> <td>   24.61</td>\n",
       "</tr>\n",
       "<tr>\n",
       "  <th>Df Model:</th>              <td>     2</td>      <th>                     </th>     <td> </td>   \n",
       "</tr>\n",
       "<tr>\n",
       "  <th>Covariance Type:</th>      <td>nonrobust</td>    <th>                     </th>     <td> </td>   \n",
       "</tr>\n",
       "</table>\n",
       "<table class=\"simpletable\">\n",
       "<tr>\n",
       "             <td></td>               <th>coef</th>     <th>std err</th>      <th>t</th>      <th>P>|t|</th>  <th>[0.025</th>    <th>0.975]</th>  \n",
       "</tr>\n",
       "<tr>\n",
       "  <th>Intercept</th>              <td>    0.0159</td> <td>    1.906</td> <td>    0.008</td> <td> 0.994</td> <td>   -6.049</td> <td>    6.080</td>\n",
       "</tr>\n",
       "<tr>\n",
       "  <th>np.divide(miles, 1000)</th> <td>    1.1111</td> <td>    0.517</td> <td>    2.148</td> <td> 0.121</td> <td>   -0.535</td> <td>    2.757</td>\n",
       "</tr>\n",
       "<tr>\n",
       "  <th>car_age</th>                <td>   -0.1429</td> <td>    0.297</td> <td>   -0.480</td> <td> 0.664</td> <td>   -1.089</td> <td>    0.804</td>\n",
       "</tr>\n",
       "</table>\n",
       "<table class=\"simpletable\">\n",
       "<tr>\n",
       "  <th>Omnibus:</th>       <td>   nan</td> <th>  Durbin-Watson:     </th> <td>   3.454</td>\n",
       "</tr>\n",
       "<tr>\n",
       "  <th>Prob(Omnibus):</th> <td>   nan</td> <th>  Jarque-Bera (JB):  </th> <td>   0.455</td>\n",
       "</tr>\n",
       "<tr>\n",
       "  <th>Skew:</th>          <td>-0.384</td> <th>  Prob(JB):          </th> <td>   0.796</td>\n",
       "</tr>\n",
       "<tr>\n",
       "  <th>Kurtosis:</th>      <td> 1.890</td> <th>  Cond. No.          </th> <td>    19.1</td>\n",
       "</tr>\n",
       "</table><br/><br/>Notes:<br/>[1] Standard Errors assume that the covariance matrix of the errors is correctly specified."
      ],
      "text/plain": [
       "<class 'statsmodels.iolib.summary.Summary'>\n",
       "\"\"\"\n",
       "                            OLS Regression Results                            \n",
       "==============================================================================\n",
       "Dep. Variable:                crashes   R-squared:                       0.620\n",
       "Model:                            OLS   Adj. R-squared:                  0.367\n",
       "Method:                 Least Squares   F-statistic:                     2.452\n",
       "Date:                Sat, 03 Feb 2024   Prob (F-statistic):              0.234\n",
       "Time:                        19:08:40   Log-Likelihood:                -9.6168\n",
       "No. Observations:                   6   AIC:                             25.23\n",
       "Df Residuals:                       3   BIC:                             24.61\n",
       "Df Model:                           2                                         \n",
       "Covariance Type:            nonrobust                                         \n",
       "==========================================================================================\n",
       "                             coef    std err          t      P>|t|      [0.025      0.975]\n",
       "------------------------------------------------------------------------------------------\n",
       "Intercept                  0.0159      1.906      0.008      0.994      -6.049       6.080\n",
       "np.divide(miles, 1000)     1.1111      0.517      2.148      0.121      -0.535       2.757\n",
       "car_age                   -0.1429      0.297     -0.480      0.664      -1.089       0.804\n",
       "==============================================================================\n",
       "Omnibus:                          nan   Durbin-Watson:                   3.454\n",
       "Prob(Omnibus):                    nan   Jarque-Bera (JB):                0.455\n",
       "Skew:                          -0.384   Prob(JB):                        0.796\n",
       "Kurtosis:                       1.890   Cond. No.                         19.1\n",
       "==============================================================================\n",
       "\n",
       "Notes:\n",
       "[1] Standard Errors assume that the covariance matrix of the errors is correctly specified.\n",
       "\"\"\""
      ]
     },
     "execution_count": 9,
     "metadata": {},
     "output_type": "execute_result"
    }
   ],
   "source": [
    "model = smf.ols(formula='crashes ~ np.divide(miles, 1000) + car_age', data=df)\n",
    "results = model.fit()\n",
    "results.summary()"
   ]
  },
  {
   "cell_type": "markdown",
   "id": "807be648",
   "metadata": {},
   "source": [
    "In this case the `R-squared` is 0.62 or 62%; which is higher than 0.59 or 59% from the previous regression with one variable (distance).\n",
    "\n",
    "If adjusted r-squared goes up we probably have a better model.\n",
    "\n",
    "So might think that this model is better but there's a catch: A regression model with more features is going to explain a phenomenon \"better\" than a model with one feature, even if the extra features are only explaining random noise.\n",
    "\n",
    "In other words, each time we add a variable to a linear regression model, the `R-squared` will always go up."
   ]
  },
  {
   "cell_type": "markdown",
   "id": "674590f7",
   "metadata": {},
   "source": [
    "So we look at the data-point below the `R-squared` — the `Adj. R-squared`.\n",
    "\n",
    "The Adjusted R-Squared adjusts for the number of features included in the model.\n",
    "\n",
    "In the previous model, the `Adj. R-squared` was 0.489 or 49% while for this model it is 0.367 or 37%. So in fact by this standard, the previous model was better!\n",
    "\n",
    "NOTE: The `F-statistic`, `Prob (F-statistic)`, `Log-Likelihood`, `AIC` and `BIC` are also sometimes important to evaluate which model is better — but those are much more complicated. Talk to a statistician!"
   ]
  },
  {
   "cell_type": "markdown",
   "id": "76b58b3f",
   "metadata": {},
   "source": [
    "Here the p-values for the regression is 0.234, that for distance covered is 0.121 and for age of the car, it's 0.664.\n",
    "\n",
    "All of these are much, much higher than the 0.05 standard. Throw this model away!\n",
    "\n",
    "NOTE: We don't use p-values to choose between models. That is done through the adjusted r-squared and the other variables noted below that. We just use p-values to check if the model meets statistical standards of quality."
   ]
  },
  {
   "cell_type": "markdown",
   "id": "66ef3601",
   "metadata": {},
   "source": [
    "### Logistic Regressions"
   ]
  },
  {
   "cell_type": "markdown",
   "id": "364277be",
   "metadata": {},
   "source": [
    "Let's make a dataset of miles driven and whether a car has broken down at least once during that time (designated in 0 for no breakdown and 1 for a minimum of one breakdown)."
   ]
  },
  {
   "cell_type": "code",
   "execution_count": 10,
   "id": "05785809",
   "metadata": {},
   "outputs": [
    {
     "data": {
      "text/html": [
       "<div>\n",
       "<style scoped>\n",
       "    .dataframe tbody tr th:only-of-type {\n",
       "        vertical-align: middle;\n",
       "    }\n",
       "\n",
       "    .dataframe tbody tr th {\n",
       "        vertical-align: top;\n",
       "    }\n",
       "\n",
       "    .dataframe thead th {\n",
       "        text-align: right;\n",
       "    }\n",
       "</style>\n",
       "<table border=\"1\" class=\"dataframe\">\n",
       "  <thead>\n",
       "    <tr style=\"text-align: right;\">\n",
       "      <th></th>\n",
       "      <th>miles</th>\n",
       "      <th>breakdown</th>\n",
       "    </tr>\n",
       "  </thead>\n",
       "  <tbody>\n",
       "    <tr>\n",
       "      <th>0</th>\n",
       "      <td>3750</td>\n",
       "      <td>0</td>\n",
       "    </tr>\n",
       "    <tr>\n",
       "      <th>1</th>\n",
       "      <td>5000</td>\n",
       "      <td>0</td>\n",
       "    </tr>\n",
       "    <tr>\n",
       "      <th>2</th>\n",
       "      <td>5000</td>\n",
       "      <td>0</td>\n",
       "    </tr>\n",
       "    <tr>\n",
       "      <th>3</th>\n",
       "      <td>6000</td>\n",
       "      <td>1</td>\n",
       "    </tr>\n",
       "    <tr>\n",
       "      <th>4</th>\n",
       "      <td>6000</td>\n",
       "      <td>0</td>\n",
       "    </tr>\n",
       "    <tr>\n",
       "      <th>5</th>\n",
       "      <td>7000</td>\n",
       "      <td>1</td>\n",
       "    </tr>\n",
       "    <tr>\n",
       "      <th>6</th>\n",
       "      <td>7000</td>\n",
       "      <td>0</td>\n",
       "    </tr>\n",
       "    <tr>\n",
       "      <th>7</th>\n",
       "      <td>8500</td>\n",
       "      <td>1</td>\n",
       "    </tr>\n",
       "    <tr>\n",
       "      <th>8</th>\n",
       "      <td>8500</td>\n",
       "      <td>1</td>\n",
       "    </tr>\n",
       "    <tr>\n",
       "      <th>9</th>\n",
       "      <td>8500</td>\n",
       "      <td>1</td>\n",
       "    </tr>\n",
       "    <tr>\n",
       "      <th>10</th>\n",
       "      <td>8500</td>\n",
       "      <td>1</td>\n",
       "    </tr>\n",
       "  </tbody>\n",
       "</table>\n",
       "</div>"
      ],
      "text/plain": [
       "    miles  breakdown\n",
       "0    3750          0\n",
       "1    5000          0\n",
       "2    5000          0\n",
       "3    6000          1\n",
       "4    6000          0\n",
       "5    7000          1\n",
       "6    7000          0\n",
       "7    8500          1\n",
       "8    8500          1\n",
       "9    8500          1\n",
       "10   8500          1"
      ]
     },
     "execution_count": 10,
     "metadata": {},
     "output_type": "execute_result"
    }
   ],
   "source": [
    "df = pd.DataFrame([\n",
    "    { \"miles\": 3750, \"breakdown\": 0 },\n",
    "    { \"miles\": 5000, \"breakdown\": 0 },\n",
    "    { \"miles\": 5000, \"breakdown\": 0 },\n",
    "    { \"miles\": 6000, \"breakdown\": 1 },\n",
    "    { \"miles\": 6000, \"breakdown\": 0 },\n",
    "    { \"miles\": 7000, \"breakdown\": 1 },\n",
    "    { \"miles\": 7000, \"breakdown\": 0 },\n",
    "    { \"miles\": 8500, \"breakdown\": 1 },\n",
    "    { \"miles\": 8500, \"breakdown\": 1 },\n",
    "    { \"miles\": 8500, \"breakdown\": 1 },\n",
    "    { \"miles\": 8500, \"breakdown\": 1 },\n",
    "])\n",
    "\n",
    "df"
   ]
  },
  {
   "cell_type": "markdown",
   "id": "b80f6096",
   "metadata": {},
   "source": [
    "What effect does the distance driven have on the likelihood that a car will breakdown?"
   ]
  },
  {
   "cell_type": "code",
   "execution_count": 11,
   "id": "3c8e374a",
   "metadata": {},
   "outputs": [
    {
     "name": "stdout",
     "output_type": "stream",
     "text": [
      "Optimization terminated successfully.\n",
      "         Current function value: 0.309932\n",
      "         Iterations 7\n"
     ]
    },
    {
     "data": {
      "text/html": [
       "<table class=\"simpletable\">\n",
       "<caption>Logit Regression Results</caption>\n",
       "<tr>\n",
       "  <th>Dep. Variable:</th>       <td>breakdown</td>    <th>  No. Observations:  </th>  <td>    11</td> \n",
       "</tr>\n",
       "<tr>\n",
       "  <th>Model:</th>                 <td>Logit</td>      <th>  Df Residuals:      </th>  <td>     9</td> \n",
       "</tr>\n",
       "<tr>\n",
       "  <th>Method:</th>                 <td>MLE</td>       <th>  Df Model:          </th>  <td>     1</td> \n",
       "</tr>\n",
       "<tr>\n",
       "  <th>Date:</th>            <td>Sat, 03 Feb 2024</td> <th>  Pseudo R-squ.:     </th>  <td>0.5502</td> \n",
       "</tr>\n",
       "<tr>\n",
       "  <th>Time:</th>                <td>19:08:40</td>     <th>  Log-Likelihood:    </th> <td> -3.4093</td>\n",
       "</tr>\n",
       "<tr>\n",
       "  <th>converged:</th>             <td>True</td>       <th>  LL-Null:           </th> <td> -7.5791</td>\n",
       "</tr>\n",
       "<tr>\n",
       "  <th>Covariance Type:</th>     <td>nonrobust</td>    <th>  LLR p-value:       </th> <td>0.003879</td>\n",
       "</tr>\n",
       "</table>\n",
       "<table class=\"simpletable\">\n",
       "<tr>\n",
       "      <td></td>         <th>coef</th>     <th>std err</th>      <th>z</th>      <th>P>|z|</th>  <th>[0.025</th>    <th>0.975]</th>  \n",
       "</tr>\n",
       "<tr>\n",
       "  <th>Intercept</th> <td>  -11.7225</td> <td>    6.795</td> <td>   -1.725</td> <td> 0.085</td> <td>  -25.041</td> <td>    1.596</td>\n",
       "</tr>\n",
       "<tr>\n",
       "  <th>miles</th>     <td>    0.0018</td> <td>    0.001</td> <td>    1.746</td> <td> 0.081</td> <td>   -0.000</td> <td>    0.004</td>\n",
       "</tr>\n",
       "</table>"
      ],
      "text/plain": [
       "<class 'statsmodels.iolib.summary.Summary'>\n",
       "\"\"\"\n",
       "                           Logit Regression Results                           \n",
       "==============================================================================\n",
       "Dep. Variable:              breakdown   No. Observations:                   11\n",
       "Model:                          Logit   Df Residuals:                        9\n",
       "Method:                           MLE   Df Model:                            1\n",
       "Date:                Sat, 03 Feb 2024   Pseudo R-squ.:                  0.5502\n",
       "Time:                        19:08:40   Log-Likelihood:                -3.4093\n",
       "converged:                       True   LL-Null:                       -7.5791\n",
       "Covariance Type:            nonrobust   LLR p-value:                  0.003879\n",
       "==============================================================================\n",
       "                 coef    std err          z      P>|z|      [0.025      0.975]\n",
       "------------------------------------------------------------------------------\n",
       "Intercept    -11.7225      6.795     -1.725      0.085     -25.041       1.596\n",
       "miles          0.0018      0.001      1.746      0.081      -0.000       0.004\n",
       "==============================================================================\n",
       "\"\"\""
      ]
     },
     "execution_count": 11,
     "metadata": {},
     "output_type": "execute_result"
    }
   ],
   "source": [
    "model = smf.logit(formula = 'breakdown ~ miles', data=df)\n",
    "results = model.fit()\n",
    "results.summary()"
   ]
  },
  {
   "cell_type": "code",
   "execution_count": 12,
   "id": "94cee999",
   "metadata": {},
   "outputs": [
    {
     "data": {
      "text/html": [
       "<div>\n",
       "<style scoped>\n",
       "    .dataframe tbody tr th:only-of-type {\n",
       "        vertical-align: middle;\n",
       "    }\n",
       "\n",
       "    .dataframe tbody tr th {\n",
       "        vertical-align: top;\n",
       "    }\n",
       "\n",
       "    .dataframe thead th {\n",
       "        text-align: right;\n",
       "    }\n",
       "</style>\n",
       "<table border=\"1\" class=\"dataframe\">\n",
       "  <thead>\n",
       "    <tr style=\"text-align: right;\">\n",
       "      <th></th>\n",
       "      <th>coef</th>\n",
       "      <th>odds ratio</th>\n",
       "      <th>name</th>\n",
       "    </tr>\n",
       "  </thead>\n",
       "  <tbody>\n",
       "    <tr>\n",
       "      <th>0</th>\n",
       "      <td>-11.722467</td>\n",
       "      <td>0.000008</td>\n",
       "      <td>Intercept</td>\n",
       "    </tr>\n",
       "    <tr>\n",
       "      <th>1</th>\n",
       "      <td>0.001800</td>\n",
       "      <td>1.001801</td>\n",
       "      <td>miles</td>\n",
       "    </tr>\n",
       "  </tbody>\n",
       "</table>\n",
       "</div>"
      ],
      "text/plain": [
       "        coef  odds ratio       name\n",
       "0 -11.722467    0.000008  Intercept\n",
       "1   0.001800    1.001801      miles"
      ]
     },
     "execution_count": 12,
     "metadata": {},
     "output_type": "execute_result"
    }
   ],
   "source": [
    "coefs = pd.DataFrame({\n",
    "    'coef': results.params.values,\n",
    "    'odds ratio': np.exp(results.params.values),\n",
    "    'name': results.params.index\n",
    "})\n",
    "coefs"
   ]
  },
  {
   "cell_type": "markdown",
   "id": "8feef2f9",
   "metadata": {},
   "source": [
    "NOTE: The p-value for the odds ratio is > 0.05. In the statistical (or journalism) world, this model isn't that good!"
   ]
  },
  {
   "cell_type": "markdown",
   "id": "5c38b562",
   "metadata": {},
   "source": [
    "odds = chance of an event occuring / chance of that event not occuring\n",
    "\n",
    "For each mile we add, the odds of a breakdown increases by 1.002 times. In other words, the more you drive, the more your chances of a breakdown increases.\n",
    "\n",
    "Consider another example: Say we knit scarves (the shorter the scarf, the more likely we are to finish knitting) and the odds ratio for actually finishing is 0.89 for each inch. In that case, for each inch we add to the scarf, the odds for finishing 0.89 times the odds we did before. In other words, the probability of finishing decreases by 11% for each inch.\n",
    "\n",
    "Relationship between odds ratio and an event occuring —\n",
    "- Odds ratio > 1 : More likely\n",
    "- Odds ratio = 1 : No change in likelihood\n",
    "- Odds ratio < 1 : Less likely"
   ]
  },
  {
   "cell_type": "code",
   "execution_count": null,
   "id": "863f781f",
   "metadata": {},
   "outputs": [],
   "source": []
  },
  {
   "cell_type": "code",
   "execution_count": 13,
   "id": "255d1dbf",
   "metadata": {},
   "outputs": [
    {
     "data": {
      "text/html": [
       "<div>\n",
       "<style scoped>\n",
       "    .dataframe tbody tr th:only-of-type {\n",
       "        vertical-align: middle;\n",
       "    }\n",
       "\n",
       "    .dataframe tbody tr th {\n",
       "        vertical-align: top;\n",
       "    }\n",
       "\n",
       "    .dataframe thead th {\n",
       "        text-align: right;\n",
       "    }\n",
       "</style>\n",
       "<table border=\"1\" class=\"dataframe\">\n",
       "  <thead>\n",
       "    <tr style=\"text-align: right;\">\n",
       "      <th></th>\n",
       "      <th>description</th>\n",
       "      <th>probability</th>\n",
       "      <th>odds</th>\n",
       "    </tr>\n",
       "  </thead>\n",
       "  <tbody>\n",
       "    <tr>\n",
       "      <th>0</th>\n",
       "      <td>Drive 1000 miles, breakdown 500 times</td>\n",
       "      <td>500/1000 = 0.5 or 50% chance of a breakdown</td>\n",
       "      <td>50:50 odds, 50/50 = 1:1 odds</td>\n",
       "    </tr>\n",
       "    <tr>\n",
       "      <th>1</th>\n",
       "      <td>Drive 200 miles, breakdown 80 times</td>\n",
       "      <td>80/200 = 0.4 or 40% chance of a breakdown</td>\n",
       "      <td>40:60 odds, 40/60 = 0.66 or 2:3 odds</td>\n",
       "    </tr>\n",
       "    <tr>\n",
       "      <th>2</th>\n",
       "      <td>Drive 1000 miles, breakdown 750 times</td>\n",
       "      <td>750/1000 = 0.75 or 75% chance of a breakdown</td>\n",
       "      <td>75:25 odds, 75/25 = 3.0 or 3:1 odds</td>\n",
       "    </tr>\n",
       "    <tr>\n",
       "      <th>3</th>\n",
       "      <td>Drive 800 miles, breakdown 760 times</td>\n",
       "      <td>760/800 = 0.95 or 95% chance of a breakdown</td>\n",
       "      <td>95:5 odds, 95/5 = 19 or 19:1 odds</td>\n",
       "    </tr>\n",
       "  </tbody>\n",
       "</table>\n",
       "</div>"
      ],
      "text/plain": [
       "                             description  \\\n",
       "0  Drive 1000 miles, breakdown 500 times   \n",
       "1    Drive 200 miles, breakdown 80 times   \n",
       "2  Drive 1000 miles, breakdown 750 times   \n",
       "3   Drive 800 miles, breakdown 760 times   \n",
       "\n",
       "                                    probability  \\\n",
       "0   500/1000 = 0.5 or 50% chance of a breakdown   \n",
       "1     80/200 = 0.4 or 40% chance of a breakdown   \n",
       "2  750/1000 = 0.75 or 75% chance of a breakdown   \n",
       "3   760/800 = 0.95 or 95% chance of a breakdown   \n",
       "\n",
       "                                   odds  \n",
       "0          50:50 odds, 50/50 = 1:1 odds  \n",
       "1  40:60 odds, 40/60 = 0.66 or 2:3 odds  \n",
       "2   75:25 odds, 75/25 = 3.0 or 3:1 odds  \n",
       "3     95:5 odds, 95/5 = 19 or 19:1 odds  "
      ]
     },
     "execution_count": 13,
     "metadata": {},
     "output_type": "execute_result"
    }
   ],
   "source": [
    "odds = pd.DataFrame([\n",
    "    { \"description\": \"Drive 1000 miles, breakdown 500 times\",\n",
    "      \"probability\": \"500/1000 = 0.5 or 50% chance of a breakdown\",\n",
    "      \"odds\": \"50:50 odds, 50/50 = 1:1 odds\"},\n",
    "    { \"description\": \"Drive 200 miles, breakdown 80 times\",\n",
    "      \"probability\": \"80/200 = 0.4 or 40% chance of a breakdown\",\n",
    "      \"odds\": \"40:60 odds, 40/60 = 0.66 or 2:3 odds\"},\n",
    "    { \"description\": \"Drive 1000 miles, breakdown 750 times\",\n",
    "      \"probability\": \"750/1000 = 0.75 or 75% chance of a breakdown\",\n",
    "      \"odds\": \"75:25 odds, 75/25 = 3.0 or 3:1 odds\"},\n",
    "    { \"description\": \"Drive 800 miles, breakdown 760 times\",\n",
    "      \"probability\": \"760/800 = 0.95 or 95% chance of a breakdown\",\n",
    "      \"odds\": \"95:5 odds, 95/5 = 19 or 19:1 odds\"}\n",
    "])\n",
    "\n",
    "odds"
   ]
  },
  {
   "cell_type": "markdown",
   "id": "d617e068",
   "metadata": {},
   "source": [
    "Probability x Odds conversion formulae:\n",
    "- probability = odds / (odds + 1)\n",
    "- odds = probability / (1 - probability)"
   ]
  },
  {
   "cell_type": "code",
   "execution_count": 14,
   "id": "685cf553",
   "metadata": {},
   "outputs": [
    {
     "data": {
      "text/plain": [
       "15.666666666666652"
      ]
     },
     "execution_count": 14,
     "metadata": {},
     "output_type": "execute_result"
    }
   ],
   "source": [
    "### converts probability of 0.94 or 94% to odds ratio\n",
    "0.94/(1-0.94)"
   ]
  },
  {
   "cell_type": "markdown",
   "id": "eeb51b96",
   "metadata": {},
   "source": [
    "Probability of 0.94 or 94% is equal to an odds of 15.67"
   ]
  },
  {
   "cell_type": "code",
   "execution_count": 15,
   "id": "9716c460",
   "metadata": {},
   "outputs": [
    {
     "data": {
      "text/plain": [
       "0.6666666666666666"
      ]
     },
     "execution_count": 15,
     "metadata": {},
     "output_type": "execute_result"
    }
   ],
   "source": [
    "### converts odds of 2 to probability\n",
    "2/(2+1)"
   ]
  },
  {
   "cell_type": "markdown",
   "id": "c31196bb",
   "metadata": {},
   "source": [
    "Odds of 2 is equal to a probability of 67%"
   ]
  },
  {
   "cell_type": "code",
   "execution_count": 16,
   "id": "923d92ba",
   "metadata": {},
   "outputs": [
    {
     "data": {
      "text/html": [
       "<div>\n",
       "<style scoped>\n",
       "    .dataframe tbody tr th:only-of-type {\n",
       "        vertical-align: middle;\n",
       "    }\n",
       "\n",
       "    .dataframe tbody tr th {\n",
       "        vertical-align: top;\n",
       "    }\n",
       "\n",
       "    .dataframe thead th {\n",
       "        text-align: right;\n",
       "    }\n",
       "</style>\n",
       "<table border=\"1\" class=\"dataframe\">\n",
       "  <thead>\n",
       "    <tr style=\"text-align: right;\">\n",
       "      <th></th>\n",
       "      <th>miles</th>\n",
       "      <th>predicted</th>\n",
       "    </tr>\n",
       "  </thead>\n",
       "  <tbody>\n",
       "    <tr>\n",
       "      <th>0</th>\n",
       "      <td>5000</td>\n",
       "      <td>0.061534</td>\n",
       "    </tr>\n",
       "    <tr>\n",
       "      <th>1</th>\n",
       "      <td>5500</td>\n",
       "      <td>0.138851</td>\n",
       "    </tr>\n",
       "    <tr>\n",
       "      <th>2</th>\n",
       "      <td>9000</td>\n",
       "      <td>0.988722</td>\n",
       "    </tr>\n",
       "    <tr>\n",
       "      <th>3</th>\n",
       "      <td>7500</td>\n",
       "      <td>0.854986</td>\n",
       "    </tr>\n",
       "    <tr>\n",
       "      <th>4</th>\n",
       "      <td>8000</td>\n",
       "      <td>0.935477</td>\n",
       "    </tr>\n",
       "    <tr>\n",
       "      <th>5</th>\n",
       "      <td>10000</td>\n",
       "      <td>0.998117</td>\n",
       "    </tr>\n",
       "  </tbody>\n",
       "</table>\n",
       "</div>"
      ],
      "text/plain": [
       "   miles  predicted\n",
       "0   5000   0.061534\n",
       "1   5500   0.138851\n",
       "2   9000   0.988722\n",
       "3   7500   0.854986\n",
       "4   8000   0.935477\n",
       "5  10000   0.998117"
      ]
     },
     "execution_count": 16,
     "metadata": {},
     "output_type": "execute_result"
    }
   ],
   "source": [
    "unknown = pd.DataFrame([\n",
    "    { \"miles\": 5000 },\n",
    "    { \"miles\": 5500},\n",
    "    { \"miles\": 9000 },\n",
    "    { \"miles\": 7500 },\n",
    "    { \"miles\": 8000 },\n",
    "    { \"miles\": 10000 },\n",
    "])\n",
    "\n",
    "unknown['predicted'] = results.predict(unknown)\n",
    "unknown"
   ]
  },
  {
   "cell_type": "markdown",
   "id": "347c932b",
   "metadata": {},
   "source": [
    "The probability of a breakdown occuring after driving 7,500 miles is 85.5%, 9,000 miles is 98.9% and so on.\n",
    "\n",
    "In our initial dataset on which we trained this model, there are no breakdowns for 5,000 miles and below. Here though, the probability of a breakdown after 5,000 miles is 6% — it's low but the likelihood exists.\n",
    "\n",
    "The fact that we kept breaking down after longer distances is making the model cynical and pessimistic!"
   ]
  },
  {
   "cell_type": "markdown",
   "id": "08d8a522",
   "metadata": {},
   "source": [
    "Why not just use percents? Because this is about odds and likelihoods!"
   ]
  },
  {
   "cell_type": "code",
   "execution_count": 17,
   "id": "efebc87d",
   "metadata": {},
   "outputs": [
    {
     "data": {
      "text/html": [
       "<div>\n",
       "<style scoped>\n",
       "    .dataframe tbody tr th:only-of-type {\n",
       "        vertical-align: middle;\n",
       "    }\n",
       "\n",
       "    .dataframe tbody tr th {\n",
       "        vertical-align: top;\n",
       "    }\n",
       "\n",
       "    .dataframe thead th {\n",
       "        text-align: right;\n",
       "    }\n",
       "</style>\n",
       "<table border=\"1\" class=\"dataframe\">\n",
       "  <thead>\n",
       "    <tr style=\"text-align: right;\">\n",
       "      <th></th>\n",
       "      <th>probability</th>\n",
       "      <th>odds</th>\n",
       "      <th>odds doubled</th>\n",
       "      <th>percent</th>\n",
       "      <th>new percent</th>\n",
       "      <th>increase</th>\n",
       "    </tr>\n",
       "  </thead>\n",
       "  <tbody>\n",
       "    <tr>\n",
       "      <th>0</th>\n",
       "      <td>50/100 or 50%</td>\n",
       "      <td>1:1 or 1.0</td>\n",
       "      <td>1.0 * 2 = 2</td>\n",
       "      <td>2/(2+1)</td>\n",
       "      <td>0.67 or 67%</td>\n",
       "      <td>(67% - 15%) or +17 percent points</td>\n",
       "    </tr>\n",
       "    <tr>\n",
       "      <th>1</th>\n",
       "      <td>20/100 or 20%</td>\n",
       "      <td>1:4 or 0.25</td>\n",
       "      <td>0.25 * 2 = 0.5</td>\n",
       "      <td>0.5/(0.5+1)</td>\n",
       "      <td>0.33 or 33%</td>\n",
       "      <td>(33% - 20%) or +13 percent points</td>\n",
       "    </tr>\n",
       "    <tr>\n",
       "      <th>2</th>\n",
       "      <td>75/100 or 75%</td>\n",
       "      <td>3:1 or 3.0</td>\n",
       "      <td>3.0 * 2 = 6</td>\n",
       "      <td>6/(6+1)</td>\n",
       "      <td>0.86 or 86%</td>\n",
       "      <td>(86% - 75%) or +11 percent points</td>\n",
       "    </tr>\n",
       "  </tbody>\n",
       "</table>\n",
       "</div>"
      ],
      "text/plain": [
       "     probability         odds    odds doubled      percent  new percent  \\\n",
       "0  50/100 or 50%   1:1 or 1.0     1.0 * 2 = 2      2/(2+1)  0.67 or 67%   \n",
       "1  20/100 or 20%  1:4 or 0.25  0.25 * 2 = 0.5  0.5/(0.5+1)  0.33 or 33%   \n",
       "2  75/100 or 75%   3:1 or 3.0     3.0 * 2 = 6      6/(6+1)  0.86 or 86%   \n",
       "\n",
       "                            increase  \n",
       "0  (67% - 15%) or +17 percent points  \n",
       "1  (33% - 20%) or +13 percent points  \n",
       "2  (86% - 75%) or +11 percent points  "
      ]
     },
     "execution_count": 17,
     "metadata": {},
     "output_type": "execute_result"
    }
   ],
   "source": [
    "table = pd.DataFrame([\n",
    "    { \"probability\": \"50/100 or 50%\",\n",
    "      \"odds\": \"1:1 or 1.0\",\n",
    "      \"odds doubled\": \"1.0 * 2 = 2\",\n",
    "      \"percent\": \"2/(2+1)\",\n",
    "      \"new percent\": \"0.67 or 67%\",\n",
    "      \"increase\": \"(67% - 15%) or +17 percent points\"},\n",
    "    { \"probability\": \"20/100 or 20%\",\n",
    "      \"odds\": \"1:4 or 0.25\",\n",
    "      \"odds doubled\": \"0.25 * 2 = 0.5\",\n",
    "      \"percent\": \"0.5/(0.5+1)\",\n",
    "      \"new percent\": \"0.33 or 33%\",\n",
    "      \"increase\": \"(33% - 20%) or +13 percent points\"},\n",
    "    { \"probability\": \"75/100 or 75%\",\n",
    "      \"odds\": \"3:1 or 3.0\",\n",
    "      \"odds doubled\": \"3.0 * 2 = 6\",\n",
    "      \"percent\": \"6/(6+1)\",\n",
    "      \"new percent\": \"0.86 or 86%\",\n",
    "      \"increase\": \"(86% - 75%) or +11 percent points\"},\n",
    "])\n",
    "\n",
    "table"
   ]
  },
  {
   "cell_type": "markdown",
   "id": "770a688b",
   "metadata": {},
   "source": [
    "#### Another example"
   ]
  },
  {
   "cell_type": "markdown",
   "id": "da50c51b",
   "metadata": {},
   "source": [
    "Let's look at knitting scarves!\n",
    "\n",
    "Variables\n",
    "- `length_in`: length of the scarf in inches\n",
    "- `large_gauge`: whether a bigger needle was used (1 = yes; 0 = no)\n",
    "- `color`: color of the thread\n",
    "- `completed`: whether the scarf was completed (1 = yes; 0 = no)"
   ]
  },
  {
   "cell_type": "code",
   "execution_count": 18,
   "id": "15b4a87c",
   "metadata": {},
   "outputs": [
    {
     "data": {
      "text/html": [
       "<div>\n",
       "<style scoped>\n",
       "    .dataframe tbody tr th:only-of-type {\n",
       "        vertical-align: middle;\n",
       "    }\n",
       "\n",
       "    .dataframe tbody tr th {\n",
       "        vertical-align: top;\n",
       "    }\n",
       "\n",
       "    .dataframe thead th {\n",
       "        text-align: right;\n",
       "    }\n",
       "</style>\n",
       "<table border=\"1\" class=\"dataframe\">\n",
       "  <thead>\n",
       "    <tr style=\"text-align: right;\">\n",
       "      <th></th>\n",
       "      <th>length_in</th>\n",
       "      <th>large_gauge</th>\n",
       "      <th>color</th>\n",
       "      <th>completed</th>\n",
       "    </tr>\n",
       "  </thead>\n",
       "  <tbody>\n",
       "    <tr>\n",
       "      <th>0</th>\n",
       "      <td>55</td>\n",
       "      <td>1</td>\n",
       "      <td>orange</td>\n",
       "      <td>1</td>\n",
       "    </tr>\n",
       "    <tr>\n",
       "      <th>1</th>\n",
       "      <td>55</td>\n",
       "      <td>0</td>\n",
       "      <td>orange</td>\n",
       "      <td>1</td>\n",
       "    </tr>\n",
       "    <tr>\n",
       "      <th>2</th>\n",
       "      <td>55</td>\n",
       "      <td>0</td>\n",
       "      <td>brown</td>\n",
       "      <td>1</td>\n",
       "    </tr>\n",
       "    <tr>\n",
       "      <th>3</th>\n",
       "      <td>60</td>\n",
       "      <td>0</td>\n",
       "      <td>brown</td>\n",
       "      <td>1</td>\n",
       "    </tr>\n",
       "    <tr>\n",
       "      <th>4</th>\n",
       "      <td>60</td>\n",
       "      <td>0</td>\n",
       "      <td>grey</td>\n",
       "      <td>0</td>\n",
       "    </tr>\n",
       "    <tr>\n",
       "      <th>5</th>\n",
       "      <td>70</td>\n",
       "      <td>0</td>\n",
       "      <td>grey</td>\n",
       "      <td>1</td>\n",
       "    </tr>\n",
       "    <tr>\n",
       "      <th>6</th>\n",
       "      <td>70</td>\n",
       "      <td>0</td>\n",
       "      <td>orange</td>\n",
       "      <td>0</td>\n",
       "    </tr>\n",
       "    <tr>\n",
       "      <th>7</th>\n",
       "      <td>82</td>\n",
       "      <td>1</td>\n",
       "      <td>grey</td>\n",
       "      <td>1</td>\n",
       "    </tr>\n",
       "    <tr>\n",
       "      <th>8</th>\n",
       "      <td>82</td>\n",
       "      <td>0</td>\n",
       "      <td>brown</td>\n",
       "      <td>0</td>\n",
       "    </tr>\n",
       "    <tr>\n",
       "      <th>9</th>\n",
       "      <td>82</td>\n",
       "      <td>0</td>\n",
       "      <td>orange</td>\n",
       "      <td>0</td>\n",
       "    </tr>\n",
       "    <tr>\n",
       "      <th>10</th>\n",
       "      <td>82</td>\n",
       "      <td>1</td>\n",
       "      <td>brown</td>\n",
       "      <td>0</td>\n",
       "    </tr>\n",
       "  </tbody>\n",
       "</table>\n",
       "</div>"
      ],
      "text/plain": [
       "    length_in  large_gauge   color  completed\n",
       "0          55            1  orange          1\n",
       "1          55            0  orange          1\n",
       "2          55            0   brown          1\n",
       "3          60            0   brown          1\n",
       "4          60            0    grey          0\n",
       "5          70            0    grey          1\n",
       "6          70            0  orange          0\n",
       "7          82            1    grey          1\n",
       "8          82            0   brown          0\n",
       "9          82            0  orange          0\n",
       "10         82            1   brown          0"
      ]
     },
     "execution_count": 18,
     "metadata": {},
     "output_type": "execute_result"
    }
   ],
   "source": [
    "df = pd.DataFrame([\n",
    "    { \"length_in\": 55, \"large_gauge\": 1, \"color\": \"orange\", \"completed\": 1 },\n",
    "    { \"length_in\": 55, \"large_gauge\": 0, \"color\": \"orange\", \"completed\": 1 },\n",
    "    { \"length_in\": 55, \"large_gauge\": 0, \"color\": \"brown\", \"completed\": 1 },\n",
    "    { \"length_in\": 60, \"large_gauge\": 0, \"color\": \"brown\", \"completed\": 1 },\n",
    "    { \"length_in\": 60, \"large_gauge\": 0, \"color\": \"grey\", \"completed\": 0 },\n",
    "    { \"length_in\": 70, \"large_gauge\": 0, \"color\": \"grey\", \"completed\": 1 },\n",
    "    { \"length_in\": 70, \"large_gauge\": 0, \"color\": \"orange\", \"completed\": 0 },\n",
    "    { \"length_in\": 82, \"large_gauge\": 1, \"color\": \"grey\", \"completed\": 1 },\n",
    "    { \"length_in\": 82, \"large_gauge\": 0, \"color\": \"brown\", \"completed\": 0 },\n",
    "    { \"length_in\": 82, \"large_gauge\": 0, \"color\": \"orange\", \"completed\": 0 },\n",
    "    { \"length_in\": 82, \"large_gauge\": 1, \"color\": \"brown\", \"completed\": 0 },\n",
    "])\n",
    "\n",
    "df"
   ]
  },
  {
   "cell_type": "code",
   "execution_count": 19,
   "id": "d8c0a2e3",
   "metadata": {},
   "outputs": [
    {
     "name": "stdout",
     "output_type": "stream",
     "text": [
      "Optimization terminated successfully.\n",
      "         Current function value: 0.531806\n",
      "         Iterations 5\n"
     ]
    },
    {
     "data": {
      "text/html": [
       "<table class=\"simpletable\">\n",
       "<caption>Logit Regression Results</caption>\n",
       "<tr>\n",
       "  <th>Dep. Variable:</th>       <td>completed</td>    <th>  No. Observations:  </th>  <td>    11</td> \n",
       "</tr>\n",
       "<tr>\n",
       "  <th>Model:</th>                 <td>Logit</td>      <th>  Df Residuals:      </th>  <td>     9</td> \n",
       "</tr>\n",
       "<tr>\n",
       "  <th>Method:</th>                 <td>MLE</td>       <th>  Df Model:          </th>  <td>     1</td> \n",
       "</tr>\n",
       "<tr>\n",
       "  <th>Date:</th>            <td>Sat, 03 Feb 2024</td> <th>  Pseudo R-squ.:     </th>  <td>0.2282</td> \n",
       "</tr>\n",
       "<tr>\n",
       "  <th>Time:</th>                <td>19:08:40</td>     <th>  Log-Likelihood:    </th> <td> -5.8499</td>\n",
       "</tr>\n",
       "<tr>\n",
       "  <th>converged:</th>             <td>True</td>       <th>  LL-Null:           </th> <td> -7.5791</td>\n",
       "</tr>\n",
       "<tr>\n",
       "  <th>Covariance Type:</th>     <td>nonrobust</td>    <th>  LLR p-value:       </th>  <td>0.06293</td>\n",
       "</tr>\n",
       "</table>\n",
       "<table class=\"simpletable\">\n",
       "<tr>\n",
       "      <td></td>         <th>coef</th>     <th>std err</th>      <th>z</th>      <th>P>|z|</th>  <th>[0.025</th>    <th>0.975]</th>  \n",
       "</tr>\n",
       "<tr>\n",
       "  <th>Intercept</th> <td>    7.8531</td> <td>    4.736</td> <td>    1.658</td> <td> 0.097</td> <td>   -1.429</td> <td>   17.135</td>\n",
       "</tr>\n",
       "<tr>\n",
       "  <th>length_in</th> <td>   -0.1112</td> <td>    0.067</td> <td>   -1.649</td> <td> 0.099</td> <td>   -0.243</td> <td>    0.021</td>\n",
       "</tr>\n",
       "</table>"
      ],
      "text/plain": [
       "<class 'statsmodels.iolib.summary.Summary'>\n",
       "\"\"\"\n",
       "                           Logit Regression Results                           \n",
       "==============================================================================\n",
       "Dep. Variable:              completed   No. Observations:                   11\n",
       "Model:                          Logit   Df Residuals:                        9\n",
       "Method:                           MLE   Df Model:                            1\n",
       "Date:                Sat, 03 Feb 2024   Pseudo R-squ.:                  0.2282\n",
       "Time:                        19:08:40   Log-Likelihood:                -5.8499\n",
       "converged:                       True   LL-Null:                       -7.5791\n",
       "Covariance Type:            nonrobust   LLR p-value:                   0.06293\n",
       "==============================================================================\n",
       "                 coef    std err          z      P>|z|      [0.025      0.975]\n",
       "------------------------------------------------------------------------------\n",
       "Intercept      7.8531      4.736      1.658      0.097      -1.429      17.135\n",
       "length_in     -0.1112      0.067     -1.649      0.099      -0.243       0.021\n",
       "==============================================================================\n",
       "\"\"\""
      ]
     },
     "execution_count": 19,
     "metadata": {},
     "output_type": "execute_result"
    }
   ],
   "source": [
    "model = smf.logit(\"completed ~ length_in\", data=df)\n",
    "results = model.fit()\n",
    "results.summary()"
   ]
  },
  {
   "cell_type": "code",
   "execution_count": 20,
   "id": "68dd9657",
   "metadata": {},
   "outputs": [
    {
     "data": {
      "text/html": [
       "<div>\n",
       "<style scoped>\n",
       "    .dataframe tbody tr th:only-of-type {\n",
       "        vertical-align: middle;\n",
       "    }\n",
       "\n",
       "    .dataframe tbody tr th {\n",
       "        vertical-align: top;\n",
       "    }\n",
       "\n",
       "    .dataframe thead th {\n",
       "        text-align: right;\n",
       "    }\n",
       "</style>\n",
       "<table border=\"1\" class=\"dataframe\">\n",
       "  <thead>\n",
       "    <tr style=\"text-align: right;\">\n",
       "      <th></th>\n",
       "      <th>coef</th>\n",
       "      <th>odds ratio</th>\n",
       "      <th>name</th>\n",
       "    </tr>\n",
       "  </thead>\n",
       "  <tbody>\n",
       "    <tr>\n",
       "      <th>0</th>\n",
       "      <td>7.853131</td>\n",
       "      <td>2573.780516</td>\n",
       "      <td>Intercept</td>\n",
       "    </tr>\n",
       "    <tr>\n",
       "      <th>1</th>\n",
       "      <td>-0.111171</td>\n",
       "      <td>0.894786</td>\n",
       "      <td>length_in</td>\n",
       "    </tr>\n",
       "  </tbody>\n",
       "</table>\n",
       "</div>"
      ],
      "text/plain": [
       "       coef   odds ratio       name\n",
       "0  7.853131  2573.780516  Intercept\n",
       "1 -0.111171     0.894786  length_in"
      ]
     },
     "execution_count": 20,
     "metadata": {},
     "output_type": "execute_result"
    }
   ],
   "source": [
    "coefs = pd.DataFrame({\n",
    "    'coef': results.params.values,\n",
    "    'odds ratio': np.exp(results.params.values),\n",
    "    'name': results.params.index\n",
    "})\n",
    "coefs"
   ]
  },
  {
   "cell_type": "markdown",
   "id": "204b6eb8",
   "metadata": {},
   "source": [
    "For each additional inch, we have an odds of completion of 0.89x or a decrease of 11% (=100 - 89)."
   ]
  },
  {
   "cell_type": "code",
   "execution_count": 21,
   "id": "8c1ff21f",
   "metadata": {},
   "outputs": [
    {
     "name": "stdout",
     "output_type": "stream",
     "text": [
      "Optimization terminated successfully.\n",
      "         Current function value: 0.449028\n",
      "         Iterations 7\n"
     ]
    },
    {
     "data": {
      "text/html": [
       "<table class=\"simpletable\">\n",
       "<caption>Logit Regression Results</caption>\n",
       "<tr>\n",
       "  <th>Dep. Variable:</th>       <td>completed</td>    <th>  No. Observations:  </th>  <td>    11</td> \n",
       "</tr>\n",
       "<tr>\n",
       "  <th>Model:</th>                 <td>Logit</td>      <th>  Df Residuals:      </th>  <td>     8</td> \n",
       "</tr>\n",
       "<tr>\n",
       "  <th>Method:</th>                 <td>MLE</td>       <th>  Df Model:          </th>  <td>     2</td> \n",
       "</tr>\n",
       "<tr>\n",
       "  <th>Date:</th>            <td>Sat, 03 Feb 2024</td> <th>  Pseudo R-squ.:     </th>  <td>0.3483</td> \n",
       "</tr>\n",
       "<tr>\n",
       "  <th>Time:</th>                <td>19:08:40</td>     <th>  Log-Likelihood:    </th> <td> -4.9393</td>\n",
       "</tr>\n",
       "<tr>\n",
       "  <th>converged:</th>             <td>True</td>       <th>  LL-Null:           </th> <td> -7.5791</td>\n",
       "</tr>\n",
       "<tr>\n",
       "  <th>Covariance Type:</th>     <td>nonrobust</td>    <th>  LLR p-value:       </th>  <td>0.07138</td>\n",
       "</tr>\n",
       "</table>\n",
       "<table class=\"simpletable\">\n",
       "<tr>\n",
       "       <td></td>          <th>coef</th>     <th>std err</th>      <th>z</th>      <th>P>|z|</th>  <th>[0.025</th>    <th>0.975]</th>  \n",
       "</tr>\n",
       "<tr>\n",
       "  <th>Intercept</th>   <td>   12.0850</td> <td>    7.615</td> <td>    1.587</td> <td> 0.113</td> <td>   -2.840</td> <td>   27.010</td>\n",
       "</tr>\n",
       "<tr>\n",
       "  <th>length_in</th>   <td>   -0.1833</td> <td>    0.117</td> <td>   -1.573</td> <td> 0.116</td> <td>   -0.412</td> <td>    0.045</td>\n",
       "</tr>\n",
       "<tr>\n",
       "  <th>large_gauge</th> <td>    2.9609</td> <td>    2.589</td> <td>    1.144</td> <td> 0.253</td> <td>   -2.113</td> <td>    8.035</td>\n",
       "</tr>\n",
       "</table>"
      ],
      "text/plain": [
       "<class 'statsmodels.iolib.summary.Summary'>\n",
       "\"\"\"\n",
       "                           Logit Regression Results                           \n",
       "==============================================================================\n",
       "Dep. Variable:              completed   No. Observations:                   11\n",
       "Model:                          Logit   Df Residuals:                        8\n",
       "Method:                           MLE   Df Model:                            2\n",
       "Date:                Sat, 03 Feb 2024   Pseudo R-squ.:                  0.3483\n",
       "Time:                        19:08:40   Log-Likelihood:                -4.9393\n",
       "converged:                       True   LL-Null:                       -7.5791\n",
       "Covariance Type:            nonrobust   LLR p-value:                   0.07138\n",
       "===============================================================================\n",
       "                  coef    std err          z      P>|z|      [0.025      0.975]\n",
       "-------------------------------------------------------------------------------\n",
       "Intercept      12.0850      7.615      1.587      0.113      -2.840      27.010\n",
       "length_in      -0.1833      0.117     -1.573      0.116      -0.412       0.045\n",
       "large_gauge     2.9609      2.589      1.144      0.253      -2.113       8.035\n",
       "===============================================================================\n",
       "\"\"\""
      ]
     },
     "execution_count": 21,
     "metadata": {},
     "output_type": "execute_result"
    }
   ],
   "source": [
    "model = smf.logit(\"completed ~ length_in + large_gauge\", data=df)\n",
    "results = model.fit()\n",
    "results.summary()"
   ]
  },
  {
   "cell_type": "code",
   "execution_count": 22,
   "id": "9355c924",
   "metadata": {},
   "outputs": [
    {
     "data": {
      "text/html": [
       "<div>\n",
       "<style scoped>\n",
       "    .dataframe tbody tr th:only-of-type {\n",
       "        vertical-align: middle;\n",
       "    }\n",
       "\n",
       "    .dataframe tbody tr th {\n",
       "        vertical-align: top;\n",
       "    }\n",
       "\n",
       "    .dataframe thead th {\n",
       "        text-align: right;\n",
       "    }\n",
       "</style>\n",
       "<table border=\"1\" class=\"dataframe\">\n",
       "  <thead>\n",
       "    <tr style=\"text-align: right;\">\n",
       "      <th></th>\n",
       "      <th>coef</th>\n",
       "      <th>odds ratio</th>\n",
       "      <th>name</th>\n",
       "    </tr>\n",
       "  </thead>\n",
       "  <tbody>\n",
       "    <tr>\n",
       "      <th>0</th>\n",
       "      <td>12.085035</td>\n",
       "      <td>177200.102739</td>\n",
       "      <td>Intercept</td>\n",
       "    </tr>\n",
       "    <tr>\n",
       "      <th>1</th>\n",
       "      <td>-0.183318</td>\n",
       "      <td>0.832504</td>\n",
       "      <td>length_in</td>\n",
       "    </tr>\n",
       "    <tr>\n",
       "      <th>2</th>\n",
       "      <td>2.960890</td>\n",
       "      <td>19.315158</td>\n",
       "      <td>large_gauge</td>\n",
       "    </tr>\n",
       "  </tbody>\n",
       "</table>\n",
       "</div>"
      ],
      "text/plain": [
       "        coef     odds ratio         name\n",
       "0  12.085035  177200.102739    Intercept\n",
       "1  -0.183318       0.832504    length_in\n",
       "2   2.960890      19.315158  large_gauge"
      ]
     },
     "execution_count": 22,
     "metadata": {},
     "output_type": "execute_result"
    }
   ],
   "source": [
    "coefs = pd.DataFrame({\n",
    "    'coef': results.params.values,\n",
    "    'odds ratio': np.exp(results.params.values),\n",
    "    'name': results.params.index\n",
    "})\n",
    "\n",
    "coefs"
   ]
  },
  {
   "cell_type": "markdown",
   "id": "ecdec5f5",
   "metadata": {},
   "source": [
    "Our odds of completion for completing a scarf drops to 83% (from the previous 89%).\n",
    "\n",
    "BUT, if we use large gauge needles, our odds increases 19 times!\n",
    "\n",
    "NOTE: This is the source of phrases like \"everything else being equal\" or \"controlling for other factors.\" In this case, we're judging the performance of large gauge needles controlling for the length of a scarf. For every inch we add, we're seeing the effect of that inch, everything else being equal (if \"everything else\" is \"are we using large gauge needles?\").\n",
    "\n",
    "When we look at the effect of a single feature, each variable we include in the regression is being balanced out."
   ]
  },
  {
   "cell_type": "markdown",
   "id": "ab9fd5d9",
   "metadata": {},
   "source": [
    "So far we've looked at numeric variables (`length_in`) and boolean ones (`large_gauge` and `completed`).\n",
    "\n",
    "Let's add another type: Categorical variables (in this case, `color`)"
   ]
  },
  {
   "cell_type": "code",
   "execution_count": 23,
   "id": "de13ea85",
   "metadata": {},
   "outputs": [
    {
     "name": "stdout",
     "output_type": "stream",
     "text": [
      "Optimization terminated successfully.\n",
      "         Current function value: 0.424906\n",
      "         Iterations 7\n"
     ]
    },
    {
     "data": {
      "text/html": [
       "<table class=\"simpletable\">\n",
       "<caption>Logit Regression Results</caption>\n",
       "<tr>\n",
       "  <th>Dep. Variable:</th>       <td>completed</td>    <th>  No. Observations:  </th>  <td>    11</td> \n",
       "</tr>\n",
       "<tr>\n",
       "  <th>Model:</th>                 <td>Logit</td>      <th>  Df Residuals:      </th>  <td>     6</td> \n",
       "</tr>\n",
       "<tr>\n",
       "  <th>Method:</th>                 <td>MLE</td>       <th>  Df Model:          </th>  <td>     4</td> \n",
       "</tr>\n",
       "<tr>\n",
       "  <th>Date:</th>            <td>Sat, 03 Feb 2024</td> <th>  Pseudo R-squ.:     </th>  <td>0.3833</td> \n",
       "</tr>\n",
       "<tr>\n",
       "  <th>Time:</th>                <td>19:08:40</td>     <th>  Log-Likelihood:    </th> <td> -4.6740</td>\n",
       "</tr>\n",
       "<tr>\n",
       "  <th>converged:</th>             <td>True</td>       <th>  LL-Null:           </th> <td> -7.5791</td>\n",
       "</tr>\n",
       "<tr>\n",
       "  <th>Covariance Type:</th>     <td>nonrobust</td>    <th>  LLR p-value:       </th>  <td>0.2138</td> \n",
       "</tr>\n",
       "</table>\n",
       "<table class=\"simpletable\">\n",
       "<tr>\n",
       "           <td></td>             <th>coef</th>     <th>std err</th>      <th>z</th>      <th>P>|z|</th>  <th>[0.025</th>    <th>0.975]</th>  \n",
       "</tr>\n",
       "<tr>\n",
       "  <th>Intercept</th>          <td>   12.5839</td> <td>    7.995</td> <td>    1.574</td> <td> 0.115</td> <td>   -3.086</td> <td>   28.254</td>\n",
       "</tr>\n",
       "<tr>\n",
       "  <th>C(color)[T.grey]</th>   <td>    1.0113</td> <td>    1.906</td> <td>    0.531</td> <td> 0.596</td> <td>   -2.725</td> <td>    4.748</td>\n",
       "</tr>\n",
       "<tr>\n",
       "  <th>C(color)[T.orange]</th> <td>   -0.4594</td> <td>    2.257</td> <td>   -0.204</td> <td> 0.839</td> <td>   -4.884</td> <td>    3.965</td>\n",
       "</tr>\n",
       "<tr>\n",
       "  <th>length_in</th>          <td>   -0.1944</td> <td>    0.126</td> <td>   -1.540</td> <td> 0.124</td> <td>   -0.442</td> <td>    0.053</td>\n",
       "</tr>\n",
       "<tr>\n",
       "  <th>large_gauge</th>        <td>    2.8814</td> <td>    2.845</td> <td>    1.013</td> <td> 0.311</td> <td>   -2.694</td> <td>    8.457</td>\n",
       "</tr>\n",
       "</table>"
      ],
      "text/plain": [
       "<class 'statsmodels.iolib.summary.Summary'>\n",
       "\"\"\"\n",
       "                           Logit Regression Results                           \n",
       "==============================================================================\n",
       "Dep. Variable:              completed   No. Observations:                   11\n",
       "Model:                          Logit   Df Residuals:                        6\n",
       "Method:                           MLE   Df Model:                            4\n",
       "Date:                Sat, 03 Feb 2024   Pseudo R-squ.:                  0.3833\n",
       "Time:                        19:08:40   Log-Likelihood:                -4.6740\n",
       "converged:                       True   LL-Null:                       -7.5791\n",
       "Covariance Type:            nonrobust   LLR p-value:                    0.2138\n",
       "======================================================================================\n",
       "                         coef    std err          z      P>|z|      [0.025      0.975]\n",
       "--------------------------------------------------------------------------------------\n",
       "Intercept             12.5839      7.995      1.574      0.115      -3.086      28.254\n",
       "C(color)[T.grey]       1.0113      1.906      0.531      0.596      -2.725       4.748\n",
       "C(color)[T.orange]    -0.4594      2.257     -0.204      0.839      -4.884       3.965\n",
       "length_in             -0.1944      0.126     -1.540      0.124      -0.442       0.053\n",
       "large_gauge            2.8814      2.845      1.013      0.311      -2.694       8.457\n",
       "======================================================================================\n",
       "\"\"\""
      ]
     },
     "execution_count": 23,
     "metadata": {},
     "output_type": "execute_result"
    }
   ],
   "source": [
    "### defining a categorical variable with \"C()\"\n",
    "model = smf.logit(\"completed ~ length_in + large_gauge + C(color)\", data=df)\n",
    "results = model.fit()\n",
    "results.summary()"
   ]
  },
  {
   "cell_type": "code",
   "execution_count": 24,
   "id": "b242aca9",
   "metadata": {},
   "outputs": [
    {
     "data": {
      "text/html": [
       "<div>\n",
       "<style scoped>\n",
       "    .dataframe tbody tr th:only-of-type {\n",
       "        vertical-align: middle;\n",
       "    }\n",
       "\n",
       "    .dataframe tbody tr th {\n",
       "        vertical-align: top;\n",
       "    }\n",
       "\n",
       "    .dataframe thead th {\n",
       "        text-align: right;\n",
       "    }\n",
       "</style>\n",
       "<table border=\"1\" class=\"dataframe\">\n",
       "  <thead>\n",
       "    <tr style=\"text-align: right;\">\n",
       "      <th></th>\n",
       "      <th>coef</th>\n",
       "      <th>odds ratio</th>\n",
       "      <th>name</th>\n",
       "    </tr>\n",
       "  </thead>\n",
       "  <tbody>\n",
       "    <tr>\n",
       "      <th>0</th>\n",
       "      <td>12.583941</td>\n",
       "      <td>291834.232692</td>\n",
       "      <td>Intercept</td>\n",
       "    </tr>\n",
       "    <tr>\n",
       "      <th>1</th>\n",
       "      <td>1.011347</td>\n",
       "      <td>2.749302</td>\n",
       "      <td>C(color)[T.grey]</td>\n",
       "    </tr>\n",
       "    <tr>\n",
       "      <th>2</th>\n",
       "      <td>-0.459412</td>\n",
       "      <td>0.631655</td>\n",
       "      <td>C(color)[T.orange]</td>\n",
       "    </tr>\n",
       "    <tr>\n",
       "      <th>3</th>\n",
       "      <td>-0.194425</td>\n",
       "      <td>0.823308</td>\n",
       "      <td>length_in</td>\n",
       "    </tr>\n",
       "    <tr>\n",
       "      <th>4</th>\n",
       "      <td>2.881375</td>\n",
       "      <td>17.838786</td>\n",
       "      <td>large_gauge</td>\n",
       "    </tr>\n",
       "  </tbody>\n",
       "</table>\n",
       "</div>"
      ],
      "text/plain": [
       "        coef     odds ratio                name\n",
       "0  12.583941  291834.232692           Intercept\n",
       "1   1.011347       2.749302    C(color)[T.grey]\n",
       "2  -0.459412       0.631655  C(color)[T.orange]\n",
       "3  -0.194425       0.823308           length_in\n",
       "4   2.881375      17.838786         large_gauge"
      ]
     },
     "execution_count": 24,
     "metadata": {},
     "output_type": "execute_result"
    }
   ],
   "source": [
    "coefs = pd.DataFrame({\n",
    "    'coef': results.params.values,\n",
    "    'odds ratio': np.exp(results.params.values),\n",
    "    'name': results.params.index\n",
    "})\n",
    "\n",
    "coefs"
   ]
  },
  {
   "cell_type": "markdown",
   "id": "a250bff1",
   "metadata": {},
   "source": [
    "Switching to grey gives us a 2.7x improvement in our odds, while orange penalizes our odds of completion by 0.63x.\n",
    "\n",
    "But how many colors were there?"
   ]
  },
  {
   "cell_type": "code",
   "execution_count": 25,
   "id": "72ac2732",
   "metadata": {},
   "outputs": [
    {
     "data": {
      "text/plain": [
       "orange    4\n",
       "brown     4\n",
       "grey      3\n",
       "Name: color, dtype: int64"
      ]
     },
     "execution_count": 25,
     "metadata": {},
     "output_type": "execute_result"
    }
   ],
   "source": [
    "df.color.value_counts()"
   ]
  },
  {
   "cell_type": "markdown",
   "id": "8184a828",
   "metadata": {},
   "source": [
    "So where's brown?\n",
    "\n",
    "By default the model has chosen brown to be the reference category, or the category against which the others are measured.\n",
    "In other words, grey gives us a 2.7x improvement in our odds *compared to using brown*. Orange penalizes our odds of completion by 0.64x, *compared to using brown*.\n",
    "\n",
    "But we can define our own reference categories:"
   ]
  },
  {
   "cell_type": "code",
   "execution_count": 26,
   "id": "c0ae3d2f",
   "metadata": {},
   "outputs": [
    {
     "name": "stdout",
     "output_type": "stream",
     "text": [
      "Optimization terminated successfully.\n",
      "         Current function value: 0.424906\n",
      "         Iterations 7\n"
     ]
    },
    {
     "data": {
      "text/html": [
       "<table class=\"simpletable\">\n",
       "<caption>Logit Regression Results</caption>\n",
       "<tr>\n",
       "  <th>Dep. Variable:</th>       <td>completed</td>    <th>  No. Observations:  </th>  <td>    11</td> \n",
       "</tr>\n",
       "<tr>\n",
       "  <th>Model:</th>                 <td>Logit</td>      <th>  Df Residuals:      </th>  <td>     6</td> \n",
       "</tr>\n",
       "<tr>\n",
       "  <th>Method:</th>                 <td>MLE</td>       <th>  Df Model:          </th>  <td>     4</td> \n",
       "</tr>\n",
       "<tr>\n",
       "  <th>Date:</th>            <td>Sat, 03 Feb 2024</td> <th>  Pseudo R-squ.:     </th>  <td>0.3833</td> \n",
       "</tr>\n",
       "<tr>\n",
       "  <th>Time:</th>                <td>19:08:40</td>     <th>  Log-Likelihood:    </th> <td> -4.6740</td>\n",
       "</tr>\n",
       "<tr>\n",
       "  <th>converged:</th>             <td>True</td>       <th>  LL-Null:           </th> <td> -7.5791</td>\n",
       "</tr>\n",
       "<tr>\n",
       "  <th>Covariance Type:</th>     <td>nonrobust</td>    <th>  LLR p-value:       </th>  <td>0.2138</td> \n",
       "</tr>\n",
       "</table>\n",
       "<table class=\"simpletable\">\n",
       "<tr>\n",
       "                     <td></td>                       <th>coef</th>     <th>std err</th>      <th>z</th>      <th>P>|z|</th>  <th>[0.025</th>    <th>0.975]</th>  \n",
       "</tr>\n",
       "<tr>\n",
       "  <th>Intercept</th>                              <td>   12.1245</td> <td>    8.094</td> <td>    1.498</td> <td> 0.134</td> <td>   -3.740</td> <td>   27.989</td>\n",
       "</tr>\n",
       "<tr>\n",
       "  <th>C(color, Treatment('orange'))[T.brown]</th> <td>    0.4594</td> <td>    2.257</td> <td>    0.204</td> <td> 0.839</td> <td>   -3.965</td> <td>    4.884</td>\n",
       "</tr>\n",
       "<tr>\n",
       "  <th>C(color, Treatment('orange'))[T.grey]</th>  <td>    1.4708</td> <td>    2.289</td> <td>    0.643</td> <td> 0.520</td> <td>   -3.015</td> <td>    5.957</td>\n",
       "</tr>\n",
       "<tr>\n",
       "  <th>length_in</th>                              <td>   -0.1944</td> <td>    0.126</td> <td>   -1.540</td> <td> 0.124</td> <td>   -0.442</td> <td>    0.053</td>\n",
       "</tr>\n",
       "<tr>\n",
       "  <th>large_gauge</th>                            <td>    2.8814</td> <td>    2.845</td> <td>    1.013</td> <td> 0.311</td> <td>   -2.694</td> <td>    8.457</td>\n",
       "</tr>\n",
       "</table>"
      ],
      "text/plain": [
       "<class 'statsmodels.iolib.summary.Summary'>\n",
       "\"\"\"\n",
       "                           Logit Regression Results                           \n",
       "==============================================================================\n",
       "Dep. Variable:              completed   No. Observations:                   11\n",
       "Model:                          Logit   Df Residuals:                        6\n",
       "Method:                           MLE   Df Model:                            4\n",
       "Date:                Sat, 03 Feb 2024   Pseudo R-squ.:                  0.3833\n",
       "Time:                        19:08:40   Log-Likelihood:                -4.6740\n",
       "converged:                       True   LL-Null:                       -7.5791\n",
       "Covariance Type:            nonrobust   LLR p-value:                    0.2138\n",
       "==========================================================================================================\n",
       "                                             coef    std err          z      P>|z|      [0.025      0.975]\n",
       "----------------------------------------------------------------------------------------------------------\n",
       "Intercept                                 12.1245      8.094      1.498      0.134      -3.740      27.989\n",
       "C(color, Treatment('orange'))[T.brown]     0.4594      2.257      0.204      0.839      -3.965       4.884\n",
       "C(color, Treatment('orange'))[T.grey]      1.4708      2.289      0.643      0.520      -3.015       5.957\n",
       "length_in                                 -0.1944      0.126     -1.540      0.124      -0.442       0.053\n",
       "large_gauge                                2.8814      2.845      1.013      0.311      -2.694       8.457\n",
       "==========================================================================================================\n",
       "\"\"\""
      ]
     },
     "execution_count": 26,
     "metadata": {},
     "output_type": "execute_result"
    }
   ],
   "source": [
    "model = smf.logit(\"completed ~ length_in + large_gauge + C(color, Treatment('orange'))\", data=df)\n",
    "results = model.fit()\n",
    "results.summary()"
   ]
  },
  {
   "cell_type": "code",
   "execution_count": 27,
   "id": "d18b1ed0",
   "metadata": {},
   "outputs": [
    {
     "data": {
      "text/html": [
       "<div>\n",
       "<style scoped>\n",
       "    .dataframe tbody tr th:only-of-type {\n",
       "        vertical-align: middle;\n",
       "    }\n",
       "\n",
       "    .dataframe tbody tr th {\n",
       "        vertical-align: top;\n",
       "    }\n",
       "\n",
       "    .dataframe thead th {\n",
       "        text-align: right;\n",
       "    }\n",
       "</style>\n",
       "<table border=\"1\" class=\"dataframe\">\n",
       "  <thead>\n",
       "    <tr style=\"text-align: right;\">\n",
       "      <th></th>\n",
       "      <th>coef</th>\n",
       "      <th>odds ratio</th>\n",
       "      <th>name</th>\n",
       "    </tr>\n",
       "  </thead>\n",
       "  <tbody>\n",
       "    <tr>\n",
       "      <th>0</th>\n",
       "      <td>12.124529</td>\n",
       "      <td>184338.541216</td>\n",
       "      <td>Intercept</td>\n",
       "    </tr>\n",
       "    <tr>\n",
       "      <th>1</th>\n",
       "      <td>0.459412</td>\n",
       "      <td>1.583143</td>\n",
       "      <td>C(color, Treatment('orange'))[T.brown]</td>\n",
       "    </tr>\n",
       "    <tr>\n",
       "      <th>2</th>\n",
       "      <td>1.470759</td>\n",
       "      <td>4.352538</td>\n",
       "      <td>C(color, Treatment('orange'))[T.grey]</td>\n",
       "    </tr>\n",
       "    <tr>\n",
       "      <th>3</th>\n",
       "      <td>-0.194425</td>\n",
       "      <td>0.823308</td>\n",
       "      <td>length_in</td>\n",
       "    </tr>\n",
       "    <tr>\n",
       "      <th>4</th>\n",
       "      <td>2.881375</td>\n",
       "      <td>17.838786</td>\n",
       "      <td>large_gauge</td>\n",
       "    </tr>\n",
       "  </tbody>\n",
       "</table>\n",
       "</div>"
      ],
      "text/plain": [
       "        coef     odds ratio                                    name\n",
       "0  12.124529  184338.541216                               Intercept\n",
       "1   0.459412       1.583143  C(color, Treatment('orange'))[T.brown]\n",
       "2   1.470759       4.352538   C(color, Treatment('orange'))[T.grey]\n",
       "3  -0.194425       0.823308                               length_in\n",
       "4   2.881375      17.838786                             large_gauge"
      ]
     },
     "execution_count": 27,
     "metadata": {},
     "output_type": "execute_result"
    }
   ],
   "source": [
    "coefs = pd.DataFrame({\n",
    "    'coef': results.params.values,\n",
    "    'odds ratio': np.exp(results.params.values),\n",
    "    'name': results.params.index\n",
    "})\n",
    "coefs"
   ]
  },
  {
   "cell_type": "markdown",
   "id": "ee93ab7e",
   "metadata": {},
   "source": [
    "The odds of finishing when using grey is 4.4x times better than when using orange; the odds when using brown becomes 1.6x compared to orange."
   ]
  },
  {
   "cell_type": "markdown",
   "id": "83ee5665",
   "metadata": {},
   "source": [
    "#### Evaluating regressions"
   ]
  },
  {
   "cell_type": "markdown",
   "id": "36eea45b",
   "metadata": {},
   "source": [
    "##### P-values"
   ]
  },
  {
   "cell_type": "markdown",
   "id": "c60cc83d",
   "metadata": {},
   "source": [
    "The p-value for a regression model must be lesser than 0.05!\n",
    "\n",
    "In the model above the p-value is 0.2138 (for logistic regressions, this is given by `LLR p-value`) — frankly, terrible!\n",
    "\n",
    "The p-values for each of the variables/features (given by `P>|z|`) are also incredibly high. For brown it's at 84%, for grey, at 50%!\n",
    "\n",
    "Let's remove the color feature and try again!"
   ]
  },
  {
   "cell_type": "code",
   "execution_count": 28,
   "id": "db926931",
   "metadata": {},
   "outputs": [
    {
     "name": "stdout",
     "output_type": "stream",
     "text": [
      "Optimization terminated successfully.\n",
      "         Current function value: 0.449028\n",
      "         Iterations 7\n"
     ]
    },
    {
     "data": {
      "text/html": [
       "<table class=\"simpletable\">\n",
       "<caption>Logit Regression Results</caption>\n",
       "<tr>\n",
       "  <th>Dep. Variable:</th>       <td>completed</td>    <th>  No. Observations:  </th>  <td>    11</td> \n",
       "</tr>\n",
       "<tr>\n",
       "  <th>Model:</th>                 <td>Logit</td>      <th>  Df Residuals:      </th>  <td>     8</td> \n",
       "</tr>\n",
       "<tr>\n",
       "  <th>Method:</th>                 <td>MLE</td>       <th>  Df Model:          </th>  <td>     2</td> \n",
       "</tr>\n",
       "<tr>\n",
       "  <th>Date:</th>            <td>Sat, 03 Feb 2024</td> <th>  Pseudo R-squ.:     </th>  <td>0.3483</td> \n",
       "</tr>\n",
       "<tr>\n",
       "  <th>Time:</th>                <td>19:08:40</td>     <th>  Log-Likelihood:    </th> <td> -4.9393</td>\n",
       "</tr>\n",
       "<tr>\n",
       "  <th>converged:</th>             <td>True</td>       <th>  LL-Null:           </th> <td> -7.5791</td>\n",
       "</tr>\n",
       "<tr>\n",
       "  <th>Covariance Type:</th>     <td>nonrobust</td>    <th>  LLR p-value:       </th>  <td>0.07138</td>\n",
       "</tr>\n",
       "</table>\n",
       "<table class=\"simpletable\">\n",
       "<tr>\n",
       "       <td></td>          <th>coef</th>     <th>std err</th>      <th>z</th>      <th>P>|z|</th>  <th>[0.025</th>    <th>0.975]</th>  \n",
       "</tr>\n",
       "<tr>\n",
       "  <th>Intercept</th>   <td>   12.0850</td> <td>    7.615</td> <td>    1.587</td> <td> 0.113</td> <td>   -2.840</td> <td>   27.010</td>\n",
       "</tr>\n",
       "<tr>\n",
       "  <th>length_in</th>   <td>   -0.1833</td> <td>    0.117</td> <td>   -1.573</td> <td> 0.116</td> <td>   -0.412</td> <td>    0.045</td>\n",
       "</tr>\n",
       "<tr>\n",
       "  <th>large_gauge</th> <td>    2.9609</td> <td>    2.589</td> <td>    1.144</td> <td> 0.253</td> <td>   -2.113</td> <td>    8.035</td>\n",
       "</tr>\n",
       "</table>"
      ],
      "text/plain": [
       "<class 'statsmodels.iolib.summary.Summary'>\n",
       "\"\"\"\n",
       "                           Logit Regression Results                           \n",
       "==============================================================================\n",
       "Dep. Variable:              completed   No. Observations:                   11\n",
       "Model:                          Logit   Df Residuals:                        8\n",
       "Method:                           MLE   Df Model:                            2\n",
       "Date:                Sat, 03 Feb 2024   Pseudo R-squ.:                  0.3483\n",
       "Time:                        19:08:40   Log-Likelihood:                -4.9393\n",
       "converged:                       True   LL-Null:                       -7.5791\n",
       "Covariance Type:            nonrobust   LLR p-value:                   0.07138\n",
       "===============================================================================\n",
       "                  coef    std err          z      P>|z|      [0.025      0.975]\n",
       "-------------------------------------------------------------------------------\n",
       "Intercept      12.0850      7.615      1.587      0.113      -2.840      27.010\n",
       "length_in      -0.1833      0.117     -1.573      0.116      -0.412       0.045\n",
       "large_gauge     2.9609      2.589      1.144      0.253      -2.113       8.035\n",
       "===============================================================================\n",
       "\"\"\""
      ]
     },
     "execution_count": 28,
     "metadata": {},
     "output_type": "execute_result"
    }
   ],
   "source": [
    "model = smf.logit(\"completed ~ length_in + large_gauge\", data=df)\n",
    "results = model.fit()\n",
    "results.summary()"
   ]
  },
  {
   "cell_type": "markdown",
   "id": "547f351d",
   "metadata": {},
   "source": [
    "The overall p-value of the model has now improved to 0.07 but the findings from each feature is still not usable."
   ]
  },
  {
   "cell_type": "markdown",
   "id": "3e4f4a5a",
   "metadata": {},
   "source": [
    "##### Pseudo R-squared"
   ]
  },
  {
   "cell_type": "markdown",
   "id": "b9cda0a6",
   "metadata": {},
   "source": [
    "Let's run the models again with and without color."
   ]
  },
  {
   "cell_type": "code",
   "execution_count": 29,
   "id": "d6ac4a42",
   "metadata": {},
   "outputs": [
    {
     "name": "stdout",
     "output_type": "stream",
     "text": [
      "Optimization terminated successfully.\n",
      "         Current function value: 0.424906\n",
      "         Iterations 7\n"
     ]
    },
    {
     "data": {
      "text/html": [
       "<table class=\"simpletable\">\n",
       "<caption>Logit Regression Results</caption>\n",
       "<tr>\n",
       "  <th>Dep. Variable:</th>       <td>completed</td>    <th>  No. Observations:  </th>  <td>    11</td> \n",
       "</tr>\n",
       "<tr>\n",
       "  <th>Model:</th>                 <td>Logit</td>      <th>  Df Residuals:      </th>  <td>     6</td> \n",
       "</tr>\n",
       "<tr>\n",
       "  <th>Method:</th>                 <td>MLE</td>       <th>  Df Model:          </th>  <td>     4</td> \n",
       "</tr>\n",
       "<tr>\n",
       "  <th>Date:</th>            <td>Sat, 03 Feb 2024</td> <th>  Pseudo R-squ.:     </th>  <td>0.3833</td> \n",
       "</tr>\n",
       "<tr>\n",
       "  <th>Time:</th>                <td>19:08:40</td>     <th>  Log-Likelihood:    </th> <td> -4.6740</td>\n",
       "</tr>\n",
       "<tr>\n",
       "  <th>converged:</th>             <td>True</td>       <th>  LL-Null:           </th> <td> -7.5791</td>\n",
       "</tr>\n",
       "<tr>\n",
       "  <th>Covariance Type:</th>     <td>nonrobust</td>    <th>  LLR p-value:       </th>  <td>0.2138</td> \n",
       "</tr>\n",
       "</table>\n",
       "<table class=\"simpletable\">\n",
       "<tr>\n",
       "                     <td></td>                       <th>coef</th>     <th>std err</th>      <th>z</th>      <th>P>|z|</th>  <th>[0.025</th>    <th>0.975]</th>  \n",
       "</tr>\n",
       "<tr>\n",
       "  <th>Intercept</th>                              <td>   12.1245</td> <td>    8.094</td> <td>    1.498</td> <td> 0.134</td> <td>   -3.740</td> <td>   27.989</td>\n",
       "</tr>\n",
       "<tr>\n",
       "  <th>C(color, Treatment('orange'))[T.brown]</th> <td>    0.4594</td> <td>    2.257</td> <td>    0.204</td> <td> 0.839</td> <td>   -3.965</td> <td>    4.884</td>\n",
       "</tr>\n",
       "<tr>\n",
       "  <th>C(color, Treatment('orange'))[T.grey]</th>  <td>    1.4708</td> <td>    2.289</td> <td>    0.643</td> <td> 0.520</td> <td>   -3.015</td> <td>    5.957</td>\n",
       "</tr>\n",
       "<tr>\n",
       "  <th>length_in</th>                              <td>   -0.1944</td> <td>    0.126</td> <td>   -1.540</td> <td> 0.124</td> <td>   -0.442</td> <td>    0.053</td>\n",
       "</tr>\n",
       "<tr>\n",
       "  <th>large_gauge</th>                            <td>    2.8814</td> <td>    2.845</td> <td>    1.013</td> <td> 0.311</td> <td>   -2.694</td> <td>    8.457</td>\n",
       "</tr>\n",
       "</table>"
      ],
      "text/plain": [
       "<class 'statsmodels.iolib.summary.Summary'>\n",
       "\"\"\"\n",
       "                           Logit Regression Results                           \n",
       "==============================================================================\n",
       "Dep. Variable:              completed   No. Observations:                   11\n",
       "Model:                          Logit   Df Residuals:                        6\n",
       "Method:                           MLE   Df Model:                            4\n",
       "Date:                Sat, 03 Feb 2024   Pseudo R-squ.:                  0.3833\n",
       "Time:                        19:08:40   Log-Likelihood:                -4.6740\n",
       "converged:                       True   LL-Null:                       -7.5791\n",
       "Covariance Type:            nonrobust   LLR p-value:                    0.2138\n",
       "==========================================================================================================\n",
       "                                             coef    std err          z      P>|z|      [0.025      0.975]\n",
       "----------------------------------------------------------------------------------------------------------\n",
       "Intercept                                 12.1245      8.094      1.498      0.134      -3.740      27.989\n",
       "C(color, Treatment('orange'))[T.brown]     0.4594      2.257      0.204      0.839      -3.965       4.884\n",
       "C(color, Treatment('orange'))[T.grey]      1.4708      2.289      0.643      0.520      -3.015       5.957\n",
       "length_in                                 -0.1944      0.126     -1.540      0.124      -0.442       0.053\n",
       "large_gauge                                2.8814      2.845      1.013      0.311      -2.694       8.457\n",
       "==========================================================================================================\n",
       "\"\"\""
      ]
     },
     "execution_count": 29,
     "metadata": {},
     "output_type": "execute_result"
    }
   ],
   "source": [
    "model = smf.logit(\"completed ~ length_in + large_gauge + C(color, Treatment('orange'))\", data=df)\n",
    "results = model.fit()\n",
    "results.summary()"
   ]
  },
  {
   "cell_type": "code",
   "execution_count": 30,
   "id": "b3de5c92",
   "metadata": {},
   "outputs": [
    {
     "name": "stdout",
     "output_type": "stream",
     "text": [
      "Optimization terminated successfully.\n",
      "         Current function value: 0.449028\n",
      "         Iterations 7\n"
     ]
    },
    {
     "data": {
      "text/html": [
       "<table class=\"simpletable\">\n",
       "<caption>Logit Regression Results</caption>\n",
       "<tr>\n",
       "  <th>Dep. Variable:</th>       <td>completed</td>    <th>  No. Observations:  </th>  <td>    11</td> \n",
       "</tr>\n",
       "<tr>\n",
       "  <th>Model:</th>                 <td>Logit</td>      <th>  Df Residuals:      </th>  <td>     8</td> \n",
       "</tr>\n",
       "<tr>\n",
       "  <th>Method:</th>                 <td>MLE</td>       <th>  Df Model:          </th>  <td>     2</td> \n",
       "</tr>\n",
       "<tr>\n",
       "  <th>Date:</th>            <td>Sat, 03 Feb 2024</td> <th>  Pseudo R-squ.:     </th>  <td>0.3483</td> \n",
       "</tr>\n",
       "<tr>\n",
       "  <th>Time:</th>                <td>19:08:40</td>     <th>  Log-Likelihood:    </th> <td> -4.9393</td>\n",
       "</tr>\n",
       "<tr>\n",
       "  <th>converged:</th>             <td>True</td>       <th>  LL-Null:           </th> <td> -7.5791</td>\n",
       "</tr>\n",
       "<tr>\n",
       "  <th>Covariance Type:</th>     <td>nonrobust</td>    <th>  LLR p-value:       </th>  <td>0.07138</td>\n",
       "</tr>\n",
       "</table>\n",
       "<table class=\"simpletable\">\n",
       "<tr>\n",
       "       <td></td>          <th>coef</th>     <th>std err</th>      <th>z</th>      <th>P>|z|</th>  <th>[0.025</th>    <th>0.975]</th>  \n",
       "</tr>\n",
       "<tr>\n",
       "  <th>Intercept</th>   <td>   12.0850</td> <td>    7.615</td> <td>    1.587</td> <td> 0.113</td> <td>   -2.840</td> <td>   27.010</td>\n",
       "</tr>\n",
       "<tr>\n",
       "  <th>length_in</th>   <td>   -0.1833</td> <td>    0.117</td> <td>   -1.573</td> <td> 0.116</td> <td>   -0.412</td> <td>    0.045</td>\n",
       "</tr>\n",
       "<tr>\n",
       "  <th>large_gauge</th> <td>    2.9609</td> <td>    2.589</td> <td>    1.144</td> <td> 0.253</td> <td>   -2.113</td> <td>    8.035</td>\n",
       "</tr>\n",
       "</table>"
      ],
      "text/plain": [
       "<class 'statsmodels.iolib.summary.Summary'>\n",
       "\"\"\"\n",
       "                           Logit Regression Results                           \n",
       "==============================================================================\n",
       "Dep. Variable:              completed   No. Observations:                   11\n",
       "Model:                          Logit   Df Residuals:                        8\n",
       "Method:                           MLE   Df Model:                            2\n",
       "Date:                Sat, 03 Feb 2024   Pseudo R-squ.:                  0.3483\n",
       "Time:                        19:08:40   Log-Likelihood:                -4.9393\n",
       "converged:                       True   LL-Null:                       -7.5791\n",
       "Covariance Type:            nonrobust   LLR p-value:                   0.07138\n",
       "===============================================================================\n",
       "                  coef    std err          z      P>|z|      [0.025      0.975]\n",
       "-------------------------------------------------------------------------------\n",
       "Intercept      12.0850      7.615      1.587      0.113      -2.840      27.010\n",
       "length_in      -0.1833      0.117     -1.573      0.116      -0.412       0.045\n",
       "large_gauge     2.9609      2.589      1.144      0.253      -2.113       8.035\n",
       "===============================================================================\n",
       "\"\"\""
      ]
     },
     "execution_count": 30,
     "metadata": {},
     "output_type": "execute_result"
    }
   ],
   "source": [
    "model = smf.logit(\"completed ~ length_in + large_gauge\", data=df)\n",
    "results = model.fit()\n",
    "results.summary()"
   ]
  },
  {
   "cell_type": "markdown",
   "id": "8817e8e9",
   "metadata": {},
   "source": [
    "For logistic regressions, we check the value for `Pseudo R-squared`.\n",
    "\n",
    "Without colors, that is 0.35 and with colors it is 0.38.\n",
    "\n",
    "In linear regression, the closer the R-square is to 1, the better the model. But in logistic regression, we can't talk in absolute terms, we can only compare the pseudo-R-squareds of two (or more) models and say \"okay, this model with the higher pseudo-R-squared is better than that\" — that's about all we can say.\n",
    "\n",
    "\n",
    "We might think that the model with colors is better because it has a higher value for pseudo-r-squared but do we then go back to it? Not at all! The p-values for that model as we saw above are just simply too high!"
   ]
  },
  {
   "cell_type": "markdown",
   "id": "9288e86d",
   "metadata": {},
   "source": [
    "NOTE:\n",
    "\n",
    "There are multiple versions of pseudo R-squared for logistic regression. Literally different calculations that give different numbers, all called \"pseudo R-squared\"! What we are using here is something called the \"McFadden's R-squared.\" Other pieces of statistical modeling software use difference calculations."
   ]
  }
 ],
 "metadata": {
  "kernelspec": {
   "display_name": "Python 3 (ipykernel)",
   "language": "python",
   "name": "python3"
  },
  "language_info": {
   "codemirror_mode": {
    "name": "ipython",
    "version": 3
   },
   "file_extension": ".py",
   "mimetype": "text/x-python",
   "name": "python",
   "nbconvert_exporter": "python",
   "pygments_lexer": "ipython3",
   "version": "3.9.12"
  }
 },
 "nbformat": 4,
 "nbformat_minor": 5
}
